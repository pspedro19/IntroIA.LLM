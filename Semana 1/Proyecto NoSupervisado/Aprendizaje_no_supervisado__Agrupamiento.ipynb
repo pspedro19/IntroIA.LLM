{
  "nbformat": 4,
  "nbformat_minor": 0,
  "metadata": {
    "colab": {
      "provenance": []
    },
    "kernelspec": {
      "name": "python3",
      "display_name": "Python 3"
    },
    "language_info": {
      "name": "python"
    }
  },
  "cells": [
    {
      "cell_type": "markdown",
      "metadata": {
        "id": "agPU4zWADxqI"
      },
      "source": [
        "# **Aprendizaje no supervisado: agrupamiento**\n",
        "---\n",
        "En esta tarea podrá practicar las habilidades y conceptos adquiridos aplicando métodos de agrupamiento, en la caracterización de cuentas bancarias como posibles buenos o malos riesgos de crédito. Utilizaremos el conjunto de datos [**German Credit Data**](https://archive.ics.uci.edu/ml/datasets/Statlog+%28German+Credit+Data%29), atribuido al profesor Hans Hoffman\n",
        "\n",
        "\n",
        "| Variable | Medida\t| Valores |\n",
        "| --- | --- | --- |\n",
        "| checking_status | \tEstado de la cuenta corriente. |\tcategórica |\n",
        "| disc_duration |  Duración en meses del crédito solicitado | \tnumérica\n",
        "| credit_history | Historial crediticio. \t| categórica |\n",
        "| purpose |\tPropósito del crédito. \t| categórica |\n",
        "| credit_amount |\tMonto del crédito en marcos alemanes (DM). | numérica |\n",
        "| savings_status |\tEstado de cuenta/bonos de ahorros. \t| categórica|\n",
        "| employment |\t Tiempo de empleo. \t| categórica |\n",
        "| personal_status |\tEstado personal (género y estado civil). \t| categórica |\n",
        "| other_parties |\tOtros deudores/garantes. \t| categórica |\n",
        "| property_magnitude |\tTipo de propiedad. \t| categórica |\n",
        "| age |\tEdad del solicitante en años.\t| numérica |\n",
        "| other_payment_plans  |\t Otros planes de pago. \t| categórica|\n",
        "| housing |\tTipo de alojamiento/vivienda. \t| categórica|\n",
        "| existing_credits |\tCantidad de créditos existentes. \t| categórica|\n",
        "| job |\tTipo de empleo y habilidad. \t| categórica|\n",
        "| num_dependents |\tNúmero de dependientes. \t| categórica|\n",
        "| own_telephone |\tTeléfono propio. \t| categórica |\n",
        "| foreign_worker |\tTrabajador extranjero. \t| categórica |\n",
        "| class |\tTipo de riesgo de crédito. \t| categórica - variable objetivo ('good', 'bad')|]\n",
        "\n",
        "\n",
        "\n"
      ]
    },
    {
      "cell_type": "markdown",
      "metadata": {
        "id": "UygV6iCUN1w4"
      },
      "source": [
        "## **0. Dependencias**\n",
        "---\n",
        "Ejecute la siguiente celda para importar las librerías necesarias."
      ]
    },
    {
      "cell_type": "code",
      "metadata": {
        "id": "kh3RwM2u50Jz"
      },
      "source": [
        "# Importamos Scikit-Learn.\n",
        "import sklearn\n",
        "\n",
        "# Librerías de utilidad para manipulación de datos.\n",
        "import pandas as pd\n",
        "import numpy as np\n",
        "import scipy\n",
        "\n",
        "# Ignorar advertencias del código.\n",
        "import warnings\n",
        "warnings.filterwarnings('ignore')"
      ],
      "execution_count": null,
      "outputs": []
    },
    {
      "cell_type": "code",
      "metadata": {
        "id": "_ZMJ1zM4cMtJ"
      },
      "source": [
        "#TEST_CELL\n",
        "# Librerías de utilidad para visualización de datos.\n",
        "import matplotlib as mpl\n",
        "import matplotlib.pyplot as plt\n",
        "import seaborn as sns\n",
        "\n",
        "# Configuramos el formato por defecto de la\n",
        "# librería de visualización Matplotlib.\n",
        "%matplotlib inline\n",
        "%config InlineBackend.figure_format = 'retina'\n",
        "mpl.rcParams['figure.dpi'] = 110\n",
        "mpl.rcParams['figure.figsize'] = (8, 6)\n",
        "sns.set_theme()"
      ],
      "execution_count": null,
      "outputs": []
    },
    {
      "cell_type": "code",
      "metadata": {
        "id": "jUMP_2CPqwRY",
        "colab": {
          "base_uri": "https://localhost:8080/"
        },
        "outputId": "fb2c8658-dc6f-4b90-bee8-4cfbe8873e7c"
      },
      "source": [
        "#TEST_CELL\n",
        "# Versiones de las librerías usadas.\n",
        "\n",
        "!python --version\n",
        "print('NumPy', np.__version__)\n",
        "print('Pandas', pd.__version__)\n",
        "print('SciPy', scipy.__version__)\n",
        "print('Matplotlib', mpl.__version__)\n",
        "print('Seaborn', sns.__version__)\n",
        "print('Scikit-learn', sklearn.__version__)"
      ],
      "execution_count": null,
      "outputs": [
        {
          "output_type": "stream",
          "name": "stdout",
          "text": [
            "Python 3.10.12\n",
            "NumPy 1.25.2\n",
            "Pandas 2.0.3\n",
            "SciPy 1.11.4\n",
            "Matplotlib 3.7.1\n",
            "Seaborn 0.13.1\n",
            "Scikit-learn 1.2.2\n"
          ]
        }
      ]
    },
    {
      "cell_type": "markdown",
      "metadata": {
        "id": "dxNzX3sfq3gZ"
      },
      "source": [
        "Esta actividad se realizó con las siguientes versiones:\n",
        "*  *Python*: 3.7.10\n",
        "*  *NumPy*:  1.19.5\n",
        "*  *Pandas*: 1.1.5\n",
        "*  *SciPy*: 1.4.1\n",
        "*  *Matplotlib*:  3.2.2\n",
        "*  *Seaborn*:  0.11.1\n",
        "*  *Scikit-learn*: 0.22.2.post1"
      ]
    },
    {
      "cell_type": "markdown",
      "metadata": {
        "id": "XEvKnEZCKn3a"
      },
      "source": [
        "Descargamos el conjunto de datos:"
      ]
    },
    {
      "cell_type": "code",
      "metadata": {
        "id": "YH5uAuXuKirX",
        "colab": {
          "base_uri": "https://localhost:8080/"
        },
        "outputId": "e125e382-e102-4ae8-dc73-e9905d9d5e4d"
      },
      "source": [
        "#TEST_CELL\n",
        "!wget 'https://raw.githubusercontent.com/JuezUN/datasets/master/credit-german.csv'"
      ],
      "execution_count": null,
      "outputs": [
        {
          "output_type": "stream",
          "name": "stdout",
          "text": [
            "--2024-04-09 05:19:12--  https://raw.githubusercontent.com/JuezUN/datasets/master/credit-german.csv\n",
            "Resolving raw.githubusercontent.com (raw.githubusercontent.com)... 185.199.108.133, 185.199.109.133, 185.199.110.133, ...\n",
            "Connecting to raw.githubusercontent.com (raw.githubusercontent.com)|185.199.108.133|:443... connected.\n",
            "HTTP request sent, awaiting response... 200 OK\n",
            "Length: 138139 (135K) [text/plain]\n",
            "Saving to: ‘credit-german.csv’\n",
            "\n",
            "credit-german.csv   100%[===================>] 134.90K  --.-KB/s    in 0.02s   \n",
            "\n",
            "2024-04-09 05:19:12 (5.95 MB/s) - ‘credit-german.csv’ saved [138139/138139]\n",
            "\n"
          ]
        }
      ]
    },
    {
      "cell_type": "markdown",
      "metadata": {
        "id": "XvB4UaexKsM1"
      },
      "source": [
        "Y lo cargamos con _Pandas_:\n",
        "\n",
        "> **Nota**: El archivo **`'credit-german.csv'`** estará en el ambiente de _UNCode_, no se preocupe por ello."
      ]
    },
    {
      "cell_type": "code",
      "metadata": {
        "id": "nx6yIwKHEOhf"
      },
      "source": [
        "credit_german_df = pd.read_csv('credit-german.csv', sep=';')"
      ],
      "execution_count": null,
      "outputs": []
    },
    {
      "cell_type": "markdown",
      "metadata": {
        "id": "yYDUZKExK2kp"
      },
      "source": [
        "Visualizamos información básica del *DataFrame*:"
      ]
    },
    {
      "cell_type": "code",
      "metadata": {
        "id": "jAqSNtWg6B-v",
        "colab": {
          "base_uri": "https://localhost:8080/"
        },
        "outputId": "45b4e2b4-220b-4947-bd2d-e7221ddc7da6"
      },
      "source": [
        "#TEST_CELL\n",
        "credit_german_df.info()"
      ],
      "execution_count": null,
      "outputs": [
        {
          "output_type": "stream",
          "name": "stdout",
          "text": [
            "<class 'pandas.core.frame.DataFrame'>\n",
            "RangeIndex: 1000 entries, 0 to 999\n",
            "Data columns (total 19 columns):\n",
            " #   Column               Non-Null Count  Dtype \n",
            "---  ------               --------------  ----- \n",
            " 0   checking_status      1000 non-null   object\n",
            " 1   disc_duration        1000 non-null   int64 \n",
            " 2   credit_history       1000 non-null   object\n",
            " 3   purpose              1000 non-null   object\n",
            " 4   credit_amount        1000 non-null   int64 \n",
            " 5   savings_status       1000 non-null   object\n",
            " 6   employment           1000 non-null   object\n",
            " 7   personal_status      1000 non-null   object\n",
            " 8   other_parties        1000 non-null   object\n",
            " 9   property_magnitude   1000 non-null   object\n",
            " 10  age                  1000 non-null   int64 \n",
            " 11  other_payment_plans  1000 non-null   object\n",
            " 12  housing              1000 non-null   object\n",
            " 13  existing_credits     1000 non-null   object\n",
            " 14  job                  1000 non-null   object\n",
            " 15  num_dependents       1000 non-null   object\n",
            " 16  own_telephone        1000 non-null   object\n",
            " 17  foreign_worker       1000 non-null   object\n",
            " 18  class                1000 non-null   object\n",
            "dtypes: int64(3), object(16)\n",
            "memory usage: 148.6+ KB\n"
          ]
        }
      ]
    },
    {
      "cell_type": "markdown",
      "metadata": {
        "id": "_ixhR0IjK7L4"
      },
      "source": [
        "Y revisamos los valores de unos cuantos ejemplos:"
      ]
    },
    {
      "cell_type": "code",
      "metadata": {
        "id": "D0CdIUDs9gVS",
        "colab": {
          "base_uri": "https://localhost:8080/",
          "height": 296
        },
        "outputId": "21b98a2c-24b9-4adc-ce11-c8f3b168755c"
      },
      "source": [
        "#TEST_CELL\n",
        "credit_german_df.head(5)"
      ],
      "execution_count": null,
      "outputs": [
        {
          "output_type": "execute_result",
          "data": {
            "text/plain": [
              "  checking_status  disc_duration            credit_history  \\\n",
              "0              <0              6  critical/other existing    \n",
              "1        0<=X<200             48             existing paid   \n",
              "2     no checking             12  critical/other existing    \n",
              "3              <0             42             existing paid   \n",
              "4              <0             24        delayed previously   \n",
              "\n",
              "               purpose  credit_amount    savings_status employment  \\\n",
              "0             radio/tv           1169  no known savings        >=7   \n",
              "1             radio/tv           5951              <100     1<=X<4   \n",
              "2            education           2096              <100     4<=X<7   \n",
              "3  furniture/equipment           7882              <100     4<=X<7   \n",
              "4              new car           4870              <100     1<=X<4   \n",
              "\n",
              "      personal_status other_parties property_magnitude  age  \\\n",
              "0         male single          none        real estate   67   \n",
              "1  female div/dep/mar          none        real estate   22   \n",
              "2         male single          none        real estate   49   \n",
              "3         male single     guarantor     life insurance   45   \n",
              "4         male single          none  no known property   53   \n",
              "\n",
              "  other_payment_plans   housing existing_credits                 job  \\\n",
              "0                none       own              two             skilled   \n",
              "1                none       own              one             skilled   \n",
              "2                none       own              one  unskilled resident   \n",
              "3                none  for free              one             skilled   \n",
              "4                none  for free              two             skilled   \n",
              "\n",
              "  num_dependents own_telephone foreign_worker class  \n",
              "0            one           yes            yes  good  \n",
              "1            one          none            yes   bad  \n",
              "2            two          none            yes  good  \n",
              "3            two          none            yes  good  \n",
              "4            two          none            yes   bad  "
            ],
            "text/html": [
              "\n",
              "  <div id=\"df-960d8fb5-41ed-4fa3-b624-dc5a99691dc3\" class=\"colab-df-container\">\n",
              "    <div>\n",
              "<style scoped>\n",
              "    .dataframe tbody tr th:only-of-type {\n",
              "        vertical-align: middle;\n",
              "    }\n",
              "\n",
              "    .dataframe tbody tr th {\n",
              "        vertical-align: top;\n",
              "    }\n",
              "\n",
              "    .dataframe thead th {\n",
              "        text-align: right;\n",
              "    }\n",
              "</style>\n",
              "<table border=\"1\" class=\"dataframe\">\n",
              "  <thead>\n",
              "    <tr style=\"text-align: right;\">\n",
              "      <th></th>\n",
              "      <th>checking_status</th>\n",
              "      <th>disc_duration</th>\n",
              "      <th>credit_history</th>\n",
              "      <th>purpose</th>\n",
              "      <th>credit_amount</th>\n",
              "      <th>savings_status</th>\n",
              "      <th>employment</th>\n",
              "      <th>personal_status</th>\n",
              "      <th>other_parties</th>\n",
              "      <th>property_magnitude</th>\n",
              "      <th>age</th>\n",
              "      <th>other_payment_plans</th>\n",
              "      <th>housing</th>\n",
              "      <th>existing_credits</th>\n",
              "      <th>job</th>\n",
              "      <th>num_dependents</th>\n",
              "      <th>own_telephone</th>\n",
              "      <th>foreign_worker</th>\n",
              "      <th>class</th>\n",
              "    </tr>\n",
              "  </thead>\n",
              "  <tbody>\n",
              "    <tr>\n",
              "      <th>0</th>\n",
              "      <td>&lt;0</td>\n",
              "      <td>6</td>\n",
              "      <td>critical/other existing</td>\n",
              "      <td>radio/tv</td>\n",
              "      <td>1169</td>\n",
              "      <td>no known savings</td>\n",
              "      <td>&gt;=7</td>\n",
              "      <td>male single</td>\n",
              "      <td>none</td>\n",
              "      <td>real estate</td>\n",
              "      <td>67</td>\n",
              "      <td>none</td>\n",
              "      <td>own</td>\n",
              "      <td>two</td>\n",
              "      <td>skilled</td>\n",
              "      <td>one</td>\n",
              "      <td>yes</td>\n",
              "      <td>yes</td>\n",
              "      <td>good</td>\n",
              "    </tr>\n",
              "    <tr>\n",
              "      <th>1</th>\n",
              "      <td>0&lt;=X&lt;200</td>\n",
              "      <td>48</td>\n",
              "      <td>existing paid</td>\n",
              "      <td>radio/tv</td>\n",
              "      <td>5951</td>\n",
              "      <td>&lt;100</td>\n",
              "      <td>1&lt;=X&lt;4</td>\n",
              "      <td>female div/dep/mar</td>\n",
              "      <td>none</td>\n",
              "      <td>real estate</td>\n",
              "      <td>22</td>\n",
              "      <td>none</td>\n",
              "      <td>own</td>\n",
              "      <td>one</td>\n",
              "      <td>skilled</td>\n",
              "      <td>one</td>\n",
              "      <td>none</td>\n",
              "      <td>yes</td>\n",
              "      <td>bad</td>\n",
              "    </tr>\n",
              "    <tr>\n",
              "      <th>2</th>\n",
              "      <td>no checking</td>\n",
              "      <td>12</td>\n",
              "      <td>critical/other existing</td>\n",
              "      <td>education</td>\n",
              "      <td>2096</td>\n",
              "      <td>&lt;100</td>\n",
              "      <td>4&lt;=X&lt;7</td>\n",
              "      <td>male single</td>\n",
              "      <td>none</td>\n",
              "      <td>real estate</td>\n",
              "      <td>49</td>\n",
              "      <td>none</td>\n",
              "      <td>own</td>\n",
              "      <td>one</td>\n",
              "      <td>unskilled resident</td>\n",
              "      <td>two</td>\n",
              "      <td>none</td>\n",
              "      <td>yes</td>\n",
              "      <td>good</td>\n",
              "    </tr>\n",
              "    <tr>\n",
              "      <th>3</th>\n",
              "      <td>&lt;0</td>\n",
              "      <td>42</td>\n",
              "      <td>existing paid</td>\n",
              "      <td>furniture/equipment</td>\n",
              "      <td>7882</td>\n",
              "      <td>&lt;100</td>\n",
              "      <td>4&lt;=X&lt;7</td>\n",
              "      <td>male single</td>\n",
              "      <td>guarantor</td>\n",
              "      <td>life insurance</td>\n",
              "      <td>45</td>\n",
              "      <td>none</td>\n",
              "      <td>for free</td>\n",
              "      <td>one</td>\n",
              "      <td>skilled</td>\n",
              "      <td>two</td>\n",
              "      <td>none</td>\n",
              "      <td>yes</td>\n",
              "      <td>good</td>\n",
              "    </tr>\n",
              "    <tr>\n",
              "      <th>4</th>\n",
              "      <td>&lt;0</td>\n",
              "      <td>24</td>\n",
              "      <td>delayed previously</td>\n",
              "      <td>new car</td>\n",
              "      <td>4870</td>\n",
              "      <td>&lt;100</td>\n",
              "      <td>1&lt;=X&lt;4</td>\n",
              "      <td>male single</td>\n",
              "      <td>none</td>\n",
              "      <td>no known property</td>\n",
              "      <td>53</td>\n",
              "      <td>none</td>\n",
              "      <td>for free</td>\n",
              "      <td>two</td>\n",
              "      <td>skilled</td>\n",
              "      <td>two</td>\n",
              "      <td>none</td>\n",
              "      <td>yes</td>\n",
              "      <td>bad</td>\n",
              "    </tr>\n",
              "  </tbody>\n",
              "</table>\n",
              "</div>\n",
              "    <div class=\"colab-df-buttons\">\n",
              "\n",
              "  <div class=\"colab-df-container\">\n",
              "    <button class=\"colab-df-convert\" onclick=\"convertToInteractive('df-960d8fb5-41ed-4fa3-b624-dc5a99691dc3')\"\n",
              "            title=\"Convert this dataframe to an interactive table.\"\n",
              "            style=\"display:none;\">\n",
              "\n",
              "  <svg xmlns=\"http://www.w3.org/2000/svg\" height=\"24px\" viewBox=\"0 -960 960 960\">\n",
              "    <path d=\"M120-120v-720h720v720H120Zm60-500h600v-160H180v160Zm220 220h160v-160H400v160Zm0 220h160v-160H400v160ZM180-400h160v-160H180v160Zm440 0h160v-160H620v160ZM180-180h160v-160H180v160Zm440 0h160v-160H620v160Z\"/>\n",
              "  </svg>\n",
              "    </button>\n",
              "\n",
              "  <style>\n",
              "    .colab-df-container {\n",
              "      display:flex;\n",
              "      gap: 12px;\n",
              "    }\n",
              "\n",
              "    .colab-df-convert {\n",
              "      background-color: #E8F0FE;\n",
              "      border: none;\n",
              "      border-radius: 50%;\n",
              "      cursor: pointer;\n",
              "      display: none;\n",
              "      fill: #1967D2;\n",
              "      height: 32px;\n",
              "      padding: 0 0 0 0;\n",
              "      width: 32px;\n",
              "    }\n",
              "\n",
              "    .colab-df-convert:hover {\n",
              "      background-color: #E2EBFA;\n",
              "      box-shadow: 0px 1px 2px rgba(60, 64, 67, 0.3), 0px 1px 3px 1px rgba(60, 64, 67, 0.15);\n",
              "      fill: #174EA6;\n",
              "    }\n",
              "\n",
              "    .colab-df-buttons div {\n",
              "      margin-bottom: 4px;\n",
              "    }\n",
              "\n",
              "    [theme=dark] .colab-df-convert {\n",
              "      background-color: #3B4455;\n",
              "      fill: #D2E3FC;\n",
              "    }\n",
              "\n",
              "    [theme=dark] .colab-df-convert:hover {\n",
              "      background-color: #434B5C;\n",
              "      box-shadow: 0px 1px 3px 1px rgba(0, 0, 0, 0.15);\n",
              "      filter: drop-shadow(0px 1px 2px rgba(0, 0, 0, 0.3));\n",
              "      fill: #FFFFFF;\n",
              "    }\n",
              "  </style>\n",
              "\n",
              "    <script>\n",
              "      const buttonEl =\n",
              "        document.querySelector('#df-960d8fb5-41ed-4fa3-b624-dc5a99691dc3 button.colab-df-convert');\n",
              "      buttonEl.style.display =\n",
              "        google.colab.kernel.accessAllowed ? 'block' : 'none';\n",
              "\n",
              "      async function convertToInteractive(key) {\n",
              "        const element = document.querySelector('#df-960d8fb5-41ed-4fa3-b624-dc5a99691dc3');\n",
              "        const dataTable =\n",
              "          await google.colab.kernel.invokeFunction('convertToInteractive',\n",
              "                                                    [key], {});\n",
              "        if (!dataTable) return;\n",
              "\n",
              "        const docLinkHtml = 'Like what you see? Visit the ' +\n",
              "          '<a target=\"_blank\" href=https://colab.research.google.com/notebooks/data_table.ipynb>data table notebook</a>'\n",
              "          + ' to learn more about interactive tables.';\n",
              "        element.innerHTML = '';\n",
              "        dataTable['output_type'] = 'display_data';\n",
              "        await google.colab.output.renderOutput(dataTable, element);\n",
              "        const docLink = document.createElement('div');\n",
              "        docLink.innerHTML = docLinkHtml;\n",
              "        element.appendChild(docLink);\n",
              "      }\n",
              "    </script>\n",
              "  </div>\n",
              "\n",
              "\n",
              "<div id=\"df-7f8d7de1-1d1e-444c-ad16-55376d909253\">\n",
              "  <button class=\"colab-df-quickchart\" onclick=\"quickchart('df-7f8d7de1-1d1e-444c-ad16-55376d909253')\"\n",
              "            title=\"Suggest charts\"\n",
              "            style=\"display:none;\">\n",
              "\n",
              "<svg xmlns=\"http://www.w3.org/2000/svg\" height=\"24px\"viewBox=\"0 0 24 24\"\n",
              "     width=\"24px\">\n",
              "    <g>\n",
              "        <path d=\"M19 3H5c-1.1 0-2 .9-2 2v14c0 1.1.9 2 2 2h14c1.1 0 2-.9 2-2V5c0-1.1-.9-2-2-2zM9 17H7v-7h2v7zm4 0h-2V7h2v10zm4 0h-2v-4h2v4z\"/>\n",
              "    </g>\n",
              "</svg>\n",
              "  </button>\n",
              "\n",
              "<style>\n",
              "  .colab-df-quickchart {\n",
              "      --bg-color: #E8F0FE;\n",
              "      --fill-color: #1967D2;\n",
              "      --hover-bg-color: #E2EBFA;\n",
              "      --hover-fill-color: #174EA6;\n",
              "      --disabled-fill-color: #AAA;\n",
              "      --disabled-bg-color: #DDD;\n",
              "  }\n",
              "\n",
              "  [theme=dark] .colab-df-quickchart {\n",
              "      --bg-color: #3B4455;\n",
              "      --fill-color: #D2E3FC;\n",
              "      --hover-bg-color: #434B5C;\n",
              "      --hover-fill-color: #FFFFFF;\n",
              "      --disabled-bg-color: #3B4455;\n",
              "      --disabled-fill-color: #666;\n",
              "  }\n",
              "\n",
              "  .colab-df-quickchart {\n",
              "    background-color: var(--bg-color);\n",
              "    border: none;\n",
              "    border-radius: 50%;\n",
              "    cursor: pointer;\n",
              "    display: none;\n",
              "    fill: var(--fill-color);\n",
              "    height: 32px;\n",
              "    padding: 0;\n",
              "    width: 32px;\n",
              "  }\n",
              "\n",
              "  .colab-df-quickchart:hover {\n",
              "    background-color: var(--hover-bg-color);\n",
              "    box-shadow: 0 1px 2px rgba(60, 64, 67, 0.3), 0 1px 3px 1px rgba(60, 64, 67, 0.15);\n",
              "    fill: var(--button-hover-fill-color);\n",
              "  }\n",
              "\n",
              "  .colab-df-quickchart-complete:disabled,\n",
              "  .colab-df-quickchart-complete:disabled:hover {\n",
              "    background-color: var(--disabled-bg-color);\n",
              "    fill: var(--disabled-fill-color);\n",
              "    box-shadow: none;\n",
              "  }\n",
              "\n",
              "  .colab-df-spinner {\n",
              "    border: 2px solid var(--fill-color);\n",
              "    border-color: transparent;\n",
              "    border-bottom-color: var(--fill-color);\n",
              "    animation:\n",
              "      spin 1s steps(1) infinite;\n",
              "  }\n",
              "\n",
              "  @keyframes spin {\n",
              "    0% {\n",
              "      border-color: transparent;\n",
              "      border-bottom-color: var(--fill-color);\n",
              "      border-left-color: var(--fill-color);\n",
              "    }\n",
              "    20% {\n",
              "      border-color: transparent;\n",
              "      border-left-color: var(--fill-color);\n",
              "      border-top-color: var(--fill-color);\n",
              "    }\n",
              "    30% {\n",
              "      border-color: transparent;\n",
              "      border-left-color: var(--fill-color);\n",
              "      border-top-color: var(--fill-color);\n",
              "      border-right-color: var(--fill-color);\n",
              "    }\n",
              "    40% {\n",
              "      border-color: transparent;\n",
              "      border-right-color: var(--fill-color);\n",
              "      border-top-color: var(--fill-color);\n",
              "    }\n",
              "    60% {\n",
              "      border-color: transparent;\n",
              "      border-right-color: var(--fill-color);\n",
              "    }\n",
              "    80% {\n",
              "      border-color: transparent;\n",
              "      border-right-color: var(--fill-color);\n",
              "      border-bottom-color: var(--fill-color);\n",
              "    }\n",
              "    90% {\n",
              "      border-color: transparent;\n",
              "      border-bottom-color: var(--fill-color);\n",
              "    }\n",
              "  }\n",
              "</style>\n",
              "\n",
              "  <script>\n",
              "    async function quickchart(key) {\n",
              "      const quickchartButtonEl =\n",
              "        document.querySelector('#' + key + ' button');\n",
              "      quickchartButtonEl.disabled = true;  // To prevent multiple clicks.\n",
              "      quickchartButtonEl.classList.add('colab-df-spinner');\n",
              "      try {\n",
              "        const charts = await google.colab.kernel.invokeFunction(\n",
              "            'suggestCharts', [key], {});\n",
              "      } catch (error) {\n",
              "        console.error('Error during call to suggestCharts:', error);\n",
              "      }\n",
              "      quickchartButtonEl.classList.remove('colab-df-spinner');\n",
              "      quickchartButtonEl.classList.add('colab-df-quickchart-complete');\n",
              "    }\n",
              "    (() => {\n",
              "      let quickchartButtonEl =\n",
              "        document.querySelector('#df-7f8d7de1-1d1e-444c-ad16-55376d909253 button');\n",
              "      quickchartButtonEl.style.display =\n",
              "        google.colab.kernel.accessAllowed ? 'block' : 'none';\n",
              "    })();\n",
              "  </script>\n",
              "</div>\n",
              "\n",
              "    </div>\n",
              "  </div>\n"
            ],
            "application/vnd.google.colaboratory.intrinsic+json": {
              "type": "dataframe",
              "variable_name": "credit_german_df",
              "summary": "{\n  \"name\": \"credit_german_df\",\n  \"rows\": 1000,\n  \"fields\": [\n    {\n      \"column\": \"checking_status\",\n      \"properties\": {\n        \"dtype\": \"category\",\n        \"num_unique_values\": 4,\n        \"samples\": [\n          \"0<=X<200\",\n          \">=200\",\n          \"<0\"\n        ],\n        \"semantic_type\": \"\",\n        \"description\": \"\"\n      }\n    },\n    {\n      \"column\": \"disc_duration\",\n      \"properties\": {\n        \"dtype\": \"number\",\n        \"std\": 12,\n        \"min\": 4,\n        \"max\": 72,\n        \"num_unique_values\": 33,\n        \"samples\": [\n          72,\n          27,\n          22\n        ],\n        \"semantic_type\": \"\",\n        \"description\": \"\"\n      }\n    },\n    {\n      \"column\": \"credit_history\",\n      \"properties\": {\n        \"dtype\": \"category\",\n        \"num_unique_values\": 5,\n        \"samples\": [\n          \"existing paid\",\n          \"all paid\",\n          \"delayed previously\"\n        ],\n        \"semantic_type\": \"\",\n        \"description\": \"\"\n      }\n    },\n    {\n      \"column\": \"purpose\",\n      \"properties\": {\n        \"dtype\": \"category\",\n        \"num_unique_values\": 10,\n        \"samples\": [\n          \"other\",\n          \"education\",\n          \"business\"\n        ],\n        \"semantic_type\": \"\",\n        \"description\": \"\"\n      }\n    },\n    {\n      \"column\": \"credit_amount\",\n      \"properties\": {\n        \"dtype\": \"number\",\n        \"std\": 2822,\n        \"min\": 250,\n        \"max\": 18424,\n        \"num_unique_values\": 921,\n        \"samples\": [\n          1068,\n          2326,\n          683\n        ],\n        \"semantic_type\": \"\",\n        \"description\": \"\"\n      }\n    },\n    {\n      \"column\": \"savings_status\",\n      \"properties\": {\n        \"dtype\": \"category\",\n        \"num_unique_values\": 5,\n        \"samples\": [\n          \"<100\",\n          \"100<=X<500\",\n          \"500<=X<1000\"\n        ],\n        \"semantic_type\": \"\",\n        \"description\": \"\"\n      }\n    },\n    {\n      \"column\": \"employment\",\n      \"properties\": {\n        \"dtype\": \"category\",\n        \"num_unique_values\": 5,\n        \"samples\": [\n          \"1<=X<4\",\n          \"<1\",\n          \"4<=X<7\"\n        ],\n        \"semantic_type\": \"\",\n        \"description\": \"\"\n      }\n    },\n    {\n      \"column\": \"personal_status\",\n      \"properties\": {\n        \"dtype\": \"category\",\n        \"num_unique_values\": 4,\n        \"samples\": [\n          \"female div/dep/mar\",\n          \"male mar/wid\",\n          \"male single\"\n        ],\n        \"semantic_type\": \"\",\n        \"description\": \"\"\n      }\n    },\n    {\n      \"column\": \"other_parties\",\n      \"properties\": {\n        \"dtype\": \"category\",\n        \"num_unique_values\": 3,\n        \"samples\": [\n          \"none\",\n          \"guarantor\",\n          \"co applicant\"\n        ],\n        \"semantic_type\": \"\",\n        \"description\": \"\"\n      }\n    },\n    {\n      \"column\": \"property_magnitude\",\n      \"properties\": {\n        \"dtype\": \"category\",\n        \"num_unique_values\": 4,\n        \"samples\": [\n          \"life insurance\",\n          \"car\",\n          \"real estate\"\n        ],\n        \"semantic_type\": \"\",\n        \"description\": \"\"\n      }\n    },\n    {\n      \"column\": \"age\",\n      \"properties\": {\n        \"dtype\": \"number\",\n        \"std\": 11,\n        \"min\": 19,\n        \"max\": 75,\n        \"num_unique_values\": 53,\n        \"samples\": [\n          34,\n          38,\n          55\n        ],\n        \"semantic_type\": \"\",\n        \"description\": \"\"\n      }\n    },\n    {\n      \"column\": \"other_payment_plans\",\n      \"properties\": {\n        \"dtype\": \"category\",\n        \"num_unique_values\": 3,\n        \"samples\": [\n          \"none\",\n          \"bank\",\n          \"stores\"\n        ],\n        \"semantic_type\": \"\",\n        \"description\": \"\"\n      }\n    },\n    {\n      \"column\": \"housing\",\n      \"properties\": {\n        \"dtype\": \"category\",\n        \"num_unique_values\": 3,\n        \"samples\": [\n          \"own\",\n          \"for free\",\n          \"rent\"\n        ],\n        \"semantic_type\": \"\",\n        \"description\": \"\"\n      }\n    },\n    {\n      \"column\": \"existing_credits\",\n      \"properties\": {\n        \"dtype\": \"category\",\n        \"num_unique_values\": 4,\n        \"samples\": [\n          \"one\",\n          \"four\",\n          \"two\"\n        ],\n        \"semantic_type\": \"\",\n        \"description\": \"\"\n      }\n    },\n    {\n      \"column\": \"job\",\n      \"properties\": {\n        \"dtype\": \"category\",\n        \"num_unique_values\": 4,\n        \"samples\": [\n          \"unskilled resident\",\n          \"unemp/unskilled non res\",\n          \"skilled\"\n        ],\n        \"semantic_type\": \"\",\n        \"description\": \"\"\n      }\n    },\n    {\n      \"column\": \"num_dependents\",\n      \"properties\": {\n        \"dtype\": \"category\",\n        \"num_unique_values\": 2,\n        \"samples\": [\n          \"two\",\n          \"one\"\n        ],\n        \"semantic_type\": \"\",\n        \"description\": \"\"\n      }\n    },\n    {\n      \"column\": \"own_telephone\",\n      \"properties\": {\n        \"dtype\": \"category\",\n        \"num_unique_values\": 2,\n        \"samples\": [\n          \"none\",\n          \"yes\"\n        ],\n        \"semantic_type\": \"\",\n        \"description\": \"\"\n      }\n    },\n    {\n      \"column\": \"foreign_worker\",\n      \"properties\": {\n        \"dtype\": \"category\",\n        \"num_unique_values\": 2,\n        \"samples\": [\n          \"no\",\n          \"yes\"\n        ],\n        \"semantic_type\": \"\",\n        \"description\": \"\"\n      }\n    },\n    {\n      \"column\": \"class\",\n      \"properties\": {\n        \"dtype\": \"category\",\n        \"num_unique_values\": 2,\n        \"samples\": [\n          \"bad\",\n          \"good\"\n        ],\n        \"semantic_type\": \"\",\n        \"description\": \"\"\n      }\n    }\n  ]\n}"
            }
          },
          "metadata": {},
          "execution_count": 7
        }
      ]
    },
    {
      "cell_type": "markdown",
      "metadata": {
        "id": "9zx6GNGQB6PO"
      },
      "source": [
        "Usando la utilidad de *Pandas* **`select_dtypes`** podemos fácilmente tomar las columnas que correspondan a variables categóricas. De esta manera, podemos verificar los valores posibles para cada una de estas con la siguiente celda:"
      ]
    },
    {
      "cell_type": "code",
      "metadata": {
        "id": "eDmQJfkdcdtj",
        "colab": {
          "base_uri": "https://localhost:8080/"
        },
        "outputId": "9a626eae-c132-45cc-cb00-80ce58c1ea1a"
      },
      "source": [
        "#TEST_CELL\n",
        "categoric_df = credit_german_df.select_dtypes(['object'])\n",
        "\n",
        "print('Características categóricas y valores únicos')\n",
        "for col in categoric_df.columns:\n",
        "  print(f'\\nCaracterística {col}')\n",
        "  for i, val in enumerate(categoric_df[col].unique()):\n",
        "    print(f\"\\t{i + 1}. {val}\")"
      ],
      "execution_count": null,
      "outputs": [
        {
          "output_type": "stream",
          "name": "stdout",
          "text": [
            "Características categóricas y valores únicos\n",
            "\n",
            "Característica checking_status\n",
            "\t1. <0\n",
            "\t2. 0<=X<200\n",
            "\t3. no checking\n",
            "\t4. >=200\n",
            "\n",
            "Característica credit_history\n",
            "\t1. critical/other existing \n",
            "\t2. existing paid\n",
            "\t3. delayed previously\n",
            "\t4. no credits/all paid\n",
            "\t5. all paid\n",
            "\n",
            "Característica purpose\n",
            "\t1. radio/tv\n",
            "\t2. education\n",
            "\t3. furniture/equipment\n",
            "\t4. new car\n",
            "\t5. used car\n",
            "\t6. business\n",
            "\t7. domestic appliance\n",
            "\t8. repairs\n",
            "\t9. other\n",
            "\t10. retraining\n",
            "\n",
            "Característica savings_status\n",
            "\t1. no known savings\n",
            "\t2. <100\n",
            "\t3. 500<=X<1000\n",
            "\t4. >=1000\n",
            "\t5. 100<=X<500\n",
            "\n",
            "Característica employment\n",
            "\t1. >=7\n",
            "\t2. 1<=X<4\n",
            "\t3. 4<=X<7\n",
            "\t4. unemployed\n",
            "\t5. <1\n",
            "\n",
            "Característica personal_status\n",
            "\t1. male single\n",
            "\t2. female div/dep/mar\n",
            "\t3. male div/sep\n",
            "\t4. male mar/wid\n",
            "\n",
            "Característica other_parties\n",
            "\t1. none\n",
            "\t2. guarantor\n",
            "\t3. co applicant\n",
            "\n",
            "Característica property_magnitude\n",
            "\t1. real estate\n",
            "\t2. life insurance\n",
            "\t3. no known property\n",
            "\t4. car\n",
            "\n",
            "Característica other_payment_plans\n",
            "\t1. none\n",
            "\t2. bank\n",
            "\t3. stores\n",
            "\n",
            "Característica housing\n",
            "\t1. own\n",
            "\t2. for free\n",
            "\t3. rent\n",
            "\n",
            "Característica existing_credits\n",
            "\t1. two\n",
            "\t2. one\n",
            "\t3. three\n",
            "\t4. four\n",
            "\n",
            "Característica job\n",
            "\t1. skilled\n",
            "\t2. unskilled resident\n",
            "\t3. high qualif/self emp/mgm\n",
            "\t4. unemp/unskilled non res\n",
            "\n",
            "Característica num_dependents\n",
            "\t1. one\n",
            "\t2. two\n",
            "\n",
            "Característica own_telephone\n",
            "\t1. yes\n",
            "\t2. none\n",
            "\n",
            "Característica foreign_worker\n",
            "\t1. yes\n",
            "\t2. no\n",
            "\n",
            "Característica class\n",
            "\t1. good\n",
            "\t2. bad\n"
          ]
        }
      ]
    },
    {
      "cell_type": "markdown",
      "metadata": {
        "id": "OE-Sv_1LvKBt"
      },
      "source": [
        "## **1. Separe el conjunto de datos en la forma `X, y`**\n",
        "---\n",
        "\n",
        "El conjunto de datos cuenta con la característica **`class`**, la cual contiene los valores **`\"good\"`** y **`\"bad\"`**, representando la decisión de dar o no el crédito con base a los antecedentes personales y crediticios de cada persona. En este caso nos interesa analizar el desempeño de los agrupamientos de manera externa basados en esta característica.\n",
        "\n",
        "Complete la función **`separar_X_y`** de tal manera que retorne una tupla **`X, y`** que corresponda al conjunto de datos en la forma $X, y$, con **`y`** siendo la variable objetivo.\n",
        "\n",
        "**Entrada:**\n",
        "* **`df`**: objeto *DataFrame* de *Pandas* con el conjunto de datos *German Credit Data*.\n",
        "\n",
        "**Salida**\n",
        "* **`X`:** objeto _DataFrame_ con la matriz de datos, excluyendo la columna **`class`**.\n",
        "* **`y`:** objeto _Series_ con el vector de etiquetas reales contenido en la columna **`class`**.\n"
      ]
    },
    {
      "cell_type": "code",
      "metadata": {
        "id": "6x6hJe2lwLJR"
      },
      "source": [
        "# FUNCIÓN CALIFICADA separar_X_y:\n",
        "\n",
        "def separar_X_y(df):\n",
        "  \"\"\"\n",
        "    Entradas:\n",
        "      df: objeto DataFrame del conjunto de datos German Credit Data.\n",
        "    Retorna:\n",
        "      X: objeto DataFrame con la matriz de datos de entrada.\n",
        "      y: objeto Series con el vector de etiquetas reales.\n",
        "\n",
        "      X debe ser un DataFrame y y una Series de Pandas.\n",
        "  \"\"\"\n",
        "  ### ESCRIBA SU CÓDIGO AQUÍ ### (~ 2 líneas de código)\n",
        "\n",
        "  X = df.loc[:, df.columns != 'class']\n",
        "  y = df.loc[:, [\"class\"]].squeeze()\n",
        "\n",
        "  ### FIN DEL CÓDIGO ###\n",
        "\n",
        "  return X, y"
      ],
      "execution_count": null,
      "outputs": []
    },
    {
      "cell_type": "code",
      "metadata": {
        "id": "q-2H-_n_l8KI",
        "colab": {
          "base_uri": "https://localhost:8080/"
        },
        "outputId": "54449f48-cb65-4375-cef9-0271be94df4a"
      },
      "source": [
        "#TEST_CELL\n",
        "X, y = separar_X_y(credit_german_df)\n",
        "\n",
        "print(f'Tamaño de X: {X.shape}')\n",
        "print(f'Tamaño de y: {y.shape}')"
      ],
      "execution_count": null,
      "outputs": [
        {
          "output_type": "stream",
          "name": "stdout",
          "text": [
            "Tamaño de X: (1000, 18)\n",
            "Tamaño de y: (1000,)\n"
          ]
        }
      ]
    },
    {
      "cell_type": "markdown",
      "metadata": {
        "id": "IXj1cTd89tXf"
      },
      "source": [
        "**Salida esperada:**\n",
        "\n",
        "```\n",
        "Tamaño de X: (1000, 18)\n",
        "Tamaño de y: (1000,)\n",
        "```"
      ]
    },
    {
      "cell_type": "code",
      "metadata": {
        "id": "mDJDS_MAjcIt",
        "colab": {
          "base_uri": "https://localhost:8080/"
        },
        "outputId": "d7c61c70-0c4c-4286-a809-4564bda59505"
      },
      "source": [
        "#TEST_CELL\n",
        "X, y = separar_X_y(credit_german_df)\n",
        "\n",
        "print(f'Tipo de X: {type(X)}')\n",
        "print(f'Tipo de y: {type(y)}')"
      ],
      "execution_count": null,
      "outputs": [
        {
          "output_type": "stream",
          "name": "stdout",
          "text": [
            "Tipo de X: <class 'pandas.core.frame.DataFrame'>\n",
            "Tipo de y: <class 'pandas.core.series.Series'>\n"
          ]
        }
      ]
    },
    {
      "cell_type": "markdown",
      "metadata": {
        "id": "8F-TP90QjcJW"
      },
      "source": [
        "**Salida esperada:**\n",
        "\n",
        "```\n",
        "Tipo de X: <class 'pandas.core.frame.DataFrame'>\n",
        "Tipo de y: <class 'pandas.core.series.Series'>\n",
        "```"
      ]
    },
    {
      "cell_type": "markdown",
      "metadata": {
        "id": "MWY97E-VItfl"
      },
      "source": [
        "<details>    \n",
        "<summary>\n",
        "    <font size=\"3\" color=\"darkgreen\"><b>Pista</b></font>\n",
        "</summary>\n",
        "<p>\n",
        "\n",
        "* Puede guardar la columna **`class`**  en una variable y luego usar el método **`drop`** del objeto *DataFrame* de la columna para retornar el subconjunto apropiado.\n",
        "    \n"
      ]
    },
    {
      "cell_type": "markdown",
      "metadata": {
        "id": "03siIaca-Pnk"
      },
      "source": [
        "## **2. Codifique las etiquetas en valores binarios**\n",
        "---\n",
        "La variable **`class`**, ahora contenida en el arreglo **`y`**, contiene únicamente los valores **`'good'`** y **`'bad'`**:"
      ]
    },
    {
      "cell_type": "code",
      "metadata": {
        "id": "n5HLcket-fuC",
        "colab": {
          "base_uri": "https://localhost:8080/"
        },
        "outputId": "34016dcc-cff5-4d53-9791-5f8e04716411"
      },
      "source": [
        "#TEST_CELL\n",
        "print(credit_german_df.loc[:20, 'class'].values)"
      ],
      "execution_count": null,
      "outputs": [
        {
          "output_type": "stream",
          "name": "stdout",
          "text": [
            "['good' 'bad' 'good' 'good' 'bad' 'good' 'good' 'good' 'good' 'bad' 'bad'\n",
            " 'bad' 'good' 'bad' 'good' 'bad' 'good' 'good' 'bad' 'good' 'good']\n"
          ]
        }
      ]
    },
    {
      "cell_type": "markdown",
      "metadata": {
        "id": "osEbM0y0Cjmb"
      },
      "source": [
        "Antes de realizar una evaluación del desempeño externa debemos codificar **`good`** como el número $1$ y **`bad`** como el número $0$. Complete la función **`codificar`** de tal manera que retorne un arreglo de _NumPy_ con las etiquetas codificadas en valores binarios.\n",
        "\n",
        "**Entrada:**\n",
        "\n",
        "* **`y_txt`**: serie de _Pandas_ de tamaño $n$ con las cadenas de texto **`good`** y **`bad`**.\n",
        "\n",
        "**Salida:**\n",
        "\n",
        "* **`y_num`**: arreglo de _NumPy_ de tamaño $n$ con los valores numéricos $0$ y $1$."
      ]
    },
    {
      "cell_type": "code",
      "metadata": {
        "id": "faxHl6XtqBGi"
      },
      "source": [
        "# FUNCIÓN CALIFICADA bin_X_y:\n",
        "\n",
        "def codificar(y_txt):\n",
        "  \"\"\"\n",
        "    Entradas\n",
        "      y_txt: serie de Pandas con las etiquetas en valores `good` y `bad`.\n",
        "    Retorna\n",
        "      y_num: arreglo de NumPy con 'good' codificado como 1 y 'bad' codificado como 0.\n",
        "  \"\"\"\n",
        "  ### ESCRIBA SU CÓDIGO AQUÍ ### (~ 2 líneas de código)\n",
        "\n",
        "  y_num = y_txt.map(lambda x: 1 if format(x) == 'good'else 0, na_action=None)\n",
        "\n",
        "\n",
        "  ### FIN DEL CÓDIGO ###\n",
        "  return np.array(y_num)"
      ],
      "execution_count": null,
      "outputs": []
    },
    {
      "cell_type": "markdown",
      "metadata": {
        "id": "tGv7z0tODEiQ"
      },
      "source": [
        "Ejecute la siguiente celda para probar su código:\n",
        "\n",
        "> **Nota:** Asegúrese de que el ejercicio $1$ retorne un resultado correcto antes de evaluar este punto."
      ]
    },
    {
      "cell_type": "code",
      "metadata": {
        "id": "tZ8LEzEHQ2Dk",
        "colab": {
          "base_uri": "https://localhost:8080/"
        },
        "outputId": "78fc8ee0-8457-4c89-bfc9-d3fae44426d1"
      },
      "source": [
        "#TEST_CELL\n",
        "# 1. Separar el conjunto de datos en la forma X, y.\n",
        "_, y_raw = separar_X_y(credit_german_df)\n",
        "assert isinstance(y_raw, pd.Series) and y_raw.shape == (1000, ), \"Ej 1. Revise el resultado del ejercicio 1.\"\n",
        "\n",
        "y_encoded = codificar(y_raw)\n",
        "\n",
        "if isinstance(y_encoded, np.ndarray) and y_encoded.shape[0] > 0:\n",
        "  for i in range(85, 95):\n",
        "    print(f'Valor: {y_raw[i]}\\tCodificado: {y_encoded[i]}')\n",
        "\n",
        "else: print(\"El valor retornado no es un arreglo de NumPy válido.\")"
      ],
      "execution_count": null,
      "outputs": [
        {
          "output_type": "stream",
          "name": "stdout",
          "text": [
            "Valor: good\tCodificado: 1\n",
            "Valor: good\tCodificado: 1\n",
            "Valor: bad\tCodificado: 0\n",
            "Valor: good\tCodificado: 1\n",
            "Valor: bad\tCodificado: 0\n",
            "Valor: good\tCodificado: 1\n",
            "Valor: good\tCodificado: 1\n",
            "Valor: bad\tCodificado: 0\n",
            "Valor: good\tCodificado: 1\n",
            "Valor: good\tCodificado: 1\n"
          ]
        }
      ]
    },
    {
      "cell_type": "markdown",
      "metadata": {
        "id": "Vth2JnNjEg1U"
      },
      "source": [
        "**Salida esperada**:\n",
        "\n",
        "```\n",
        "Valor: good\t   Codificado: 1\n",
        "Valor: good\t   Codificado: 1\n",
        "Valor: bad\t    Codificado: 0\n",
        "Valor: good\t   Codificado: 1\n",
        "Valor: bad\t    Codificado: 0\n",
        "Valor: good\t   Codificado: 1\n",
        "Valor: good\t   Codificado: 1\n",
        "Valor: bad\t    Codificado: 0\n",
        "Valor: good\t   Codificado: 1\n",
        "Valor: good\t   Codificado: 1\n",
        "```"
      ]
    },
    {
      "cell_type": "markdown",
      "metadata": {
        "id": "S4bS1SC8Iska"
      },
      "source": [
        "<details>    \n",
        "<summary>\n",
        "    <font size=\"3\" color=\"darkgreen\"><b>Pista 1</b></font>\n",
        "</summary>\n",
        "<p>\n",
        "\n",
        "* Puede declarar una función o usar una [expresión lambda](https://docs.python.org/3/tutorial/controlflow.html#lambda-expressions) para mapear los datos con el método [**`map`**](https://pandas.pydata.org/docs/reference/api/pandas.Series.map.html) del objeto *Series* de *Pandas*.\n"
      ]
    },
    {
      "cell_type": "markdown",
      "metadata": {
        "id": "SFdeQpk5LM6x"
      },
      "source": [
        "<details>    \n",
        "<summary>\n",
        "    <font size=\"3\" color=\"darkgreen\"><b>Pista 2</b></font>\n",
        "</summary>\n",
        "\n",
        "\n",
        "* Otra alternativa es crear un nuevo arreglo de _NumPy_ con el tamaño deseado, iterar sobre **`y`** y asignar los valores correspondientes al nuevo arreglo.\n"
      ]
    },
    {
      "cell_type": "markdown",
      "metadata": {
        "id": "kh0ZPuA1DNJj"
      },
      "source": [
        "## **3. Preprocese las variables categóricas y numéricas.**\n",
        "---\n",
        "\n",
        "Para aplicar el modelo $k$ _means_, es muy importante contar con únicamente variables numéricas con una escala común. Para esto, vamos a aplicar una transformación a variables categóricas y numéricas de la siguiente forma:\n",
        "\n",
        "* Para las variables categóricas se debe aplicar el algoritmo **`OneHotEncoder`** para expandir cada categoría a una columna numérica binaria independiente.\n",
        "\n",
        "* Para las variables numéricas se debe aplicar un reescalado con **`StandardScaler`** para delimitar los valores a una escala común, con media en $0$ y desviación estándar de $1$ unidad.\n",
        "\n",
        "En este caso, deberá usar **`ColumnTransformer`** para aplicar ambas transformaciones de manera simultánea. Al hacer esto, deberá usar la cadena **`'onehot'`** para representar la primera transformación y **`'scaler'`** para representar la segunda.\n",
        "\n",
        "Complete la función **`preprocesar`** de tal manera que tome el _DataFrame_ **`X`** y retorne un arreglo de _NumPy_ con la matriz de datos preprocesada y el objeto **`ColumnTransformer`** usado para preprocesar los datos.\n",
        "\n",
        "> **Nota**: Las características categóricas deben estar antes que las características numéricas. Es decir, la primera tupla de las transformaciones que recibe **`ColumnTransformer`** debe ser aquella que utiliza *One Hot Encoder*.\n",
        "\n",
        "\n",
        "**Entrada:**\n",
        "\n",
        "* **`df`**: objeto _DataFrame_ de _Pandas_ de tamaño $(n, m)$ con variables categóricas (con _dtype_ **`'object'`**) y numéricas enteras (con _dtype_ **`'int64'`**).\n",
        "\n",
        "**Salida:**\n",
        "\n",
        "* **`X`**: matriz [_sparse_ de _SciPy_](https://docs.scipy.org/doc/scipy/reference/sparse.html) con tamaño $(n, m^\\prime)$ únicamente valores numéricos, donde $m^\\prime \\geq m$.\n",
        "* **`tf`**: objeto de tipo **`ColumnTransformer`** usado en el preprocesamiento de los datos, con los transformadores **`onehot`** y **`scaler`**."
      ]
    },
    {
      "cell_type": "code",
      "metadata": {
        "id": "2Q2Rf3SIe_Av"
      },
      "source": [
        "# FUNCIÓN CALIFICADA preprocesar:\n",
        "\n",
        "# Funciones utilizadas en el ejercicio.\n",
        "from sklearn.compose import ColumnTransformer\n",
        "from sklearn.preprocessing import OneHotEncoder, StandardScaler\n",
        "\n",
        "def preprocesar(df):\n",
        "  \"\"\"\n",
        "    Entradas:\n",
        "      df: objeto DataFrame con las características originales.\n",
        "    Retorna:\n",
        "      X: arreglo sparse de SciPy con el conjunto de datos preprocesado\n",
        "      tf: objeto ColumnTransformer usado para preprocesar el conjunto de datos.\n",
        "  \"\"\"\n",
        "  ### ESCRIBA SU CÓDIGO AQUÍ ### (~ 5-6 líneas de código)\n",
        "\n",
        "  X1 = df.select_dtypes(include='object') #Objetos categoricos\n",
        "  X2 = df.select_dtypes(include='int64') #Objetos numericos\n",
        "  tf = ColumnTransformer([('onehot', OneHotEncoder(), np.array(X1.columns).tolist()),\n",
        "                        ('scaler', StandardScaler(), np.array(X2.columns).tolist()  )])\n",
        "  X = tf.fit_transform(df)\n",
        "  ### FIN DEL CÓDIGO ###\n",
        "\n",
        "  return X, tf"
      ],
      "execution_count": null,
      "outputs": []
    },
    {
      "cell_type": "markdown",
      "metadata": {
        "id": "6A5WETT_EwTk"
      },
      "source": [
        "Ejecute las siguientes celdas para probar su código:"
      ]
    },
    {
      "cell_type": "code",
      "metadata": {
        "id": "XyqkIfT5nkW-",
        "colab": {
          "base_uri": "https://localhost:8080/"
        },
        "outputId": "fc787eb5-1a43-4022-b82c-a35051f3dce7"
      },
      "source": [
        "#TEST_CELL\n",
        "# 1. Separar el conjunto de datos en la forma X, y.\n",
        "X_raw, _ = separar_X_y(credit_german_df)\n",
        "assert (isinstance(X_raw, pd.DataFrame) and X_raw.shape == (1000, 18)), \"Ej 1. Revise el resultado del ejercicio 1.\"\n",
        "\n",
        "X_preprocessed, tf = preprocesar(X_raw)\n",
        "print(f'Tamaño de X_preprocessed: {X_preprocessed.shape}'\n",
        "      if isinstance(X_preprocessed, scipy.sparse.csr.csr_matrix)\n",
        "      else \"El valor retornado no es una matriz sparse válida.\")"
      ],
      "execution_count": null,
      "outputs": [
        {
          "output_type": "stream",
          "name": "stdout",
          "text": [
            "Tamaño de X_preprocessed: (1000, 63)\n"
          ]
        }
      ]
    },
    {
      "cell_type": "markdown",
      "metadata": {
        "id": "TBuMmWRFEjV8"
      },
      "source": [
        "**Salida esperada:**\n",
        "\n",
        "```\n",
        "Tamaño de X_preprocessed: (1000, 63)\n",
        "```"
      ]
    },
    {
      "cell_type": "code",
      "metadata": {
        "id": "AJh8yXkJMUC2",
        "colab": {
          "base_uri": "https://localhost:8080/"
        },
        "outputId": "b4b14345-e65e-49cb-a0d9-92aa6cdc9a5f"
      },
      "source": [
        "#TEST_CELL\n",
        "# 1. Separar el conjunto de datos en la forma X, y.\n",
        "X_raw, _ = separar_X_y(credit_german_df)\n",
        "assert (isinstance(X_raw, pd.DataFrame) and X_raw.shape == (1000, 18)), \"Ej 1. Revise el resultado del ejercicio 1.\"\n",
        "\n",
        "X_preprocessed, tf = preprocesar(X_raw)\n",
        "\n",
        "print(tf.named_transformers_.keys()\n",
        "      if isinstance(X_preprocessed, scipy.sparse.csr.csr_matrix)\n",
        "      else \"El valor retornado no es una matriz sparse válida.\")"
      ],
      "execution_count": null,
      "outputs": [
        {
          "output_type": "stream",
          "name": "stdout",
          "text": [
            "dict_keys(['onehot', 'scaler'])\n"
          ]
        }
      ]
    },
    {
      "cell_type": "markdown",
      "metadata": {
        "id": "RgWL6rmcMbG2"
      },
      "source": [
        "**Salida esperada:**\n",
        "\n",
        "```\n",
        "dict_keys(['onehot', 'scaler'])\n",
        "```"
      ]
    },
    {
      "cell_type": "code",
      "metadata": {
        "id": "AMCgxXamE-AD",
        "colab": {
          "base_uri": "https://localhost:8080/"
        },
        "outputId": "abbba5d6-48ab-4bec-ebf0-c21991121dcf"
      },
      "source": [
        "#TEST_CELL\n",
        "# 1. Separar el conjunto de datos en la forma X, y.\n",
        "X_raw, _ = separar_X_y(credit_german_df)\n",
        "assert (isinstance(X_raw, pd.DataFrame) and X_raw.shape == (1000, 18)), \"Ej 1. Revise el resultado del ejercicio 1.\"\n",
        "\n",
        "X_preprocessed, tf = preprocesar(X_raw)\n",
        "\n",
        "print('Primeros valores de X_preprocessed: ')\n",
        "print(X_preprocessed[0]\n",
        "      if isinstance(X_preprocessed, scipy.sparse.csr.csr_matrix)\n",
        "      else \"- El valor retornado no es una matriz sparse válida.\")"
      ],
      "execution_count": null,
      "outputs": [
        {
          "output_type": "stream",
          "name": "stdout",
          "text": [
            "Primeros valores de X_preprocessed: \n",
            "  (0, 1)\t1.0\n",
            "  (0, 5)\t1.0\n",
            "  (0, 15)\t1.0\n",
            "  (0, 23)\t1.0\n",
            "  (0, 27)\t1.0\n",
            "  (0, 32)\t1.0\n",
            "  (0, 35)\t1.0\n",
            "  (0, 39)\t1.0\n",
            "  (0, 41)\t1.0\n",
            "  (0, 44)\t1.0\n",
            "  (0, 49)\t1.0\n",
            "  (0, 51)\t1.0\n",
            "  (0, 54)\t1.0\n",
            "  (0, 57)\t1.0\n",
            "  (0, 59)\t1.0\n",
            "  (0, 60)\t-1.2364778603818776\n",
            "  (0, 61)\t-0.7451314133870967\n",
            "  (0, 62)\t2.7664564848025224\n"
          ]
        }
      ]
    },
    {
      "cell_type": "markdown",
      "metadata": {
        "id": "upQzwuRmFTIA"
      },
      "source": [
        "**Salida esperada**:\n",
        "> **Nota:** Note que la salida es distinta a la que tendría un arreglo normal. Esto es debido a que el transformador **`OneHotEncoder`** retorna por defecto una matriz de tipo [\"_dispersa_\" o *sparse* de _SciPy_](https://docs.scipy.org/doc/scipy/reference/sparse.html). Esta es usada cuando la matriz que representa está compuesta por una gran cantidad de valores en $0$, como en el caso de _One Hot Encoder_.\n",
        "\n",
        "```\n",
        "  (0, 1)\t1.0\n",
        "  (0, 5)\t1.0\n",
        "  (0, 15)\t1.0\n",
        "  (0, 23)\t1.0\n",
        "  (0, 27)\t1.0\n",
        "  (0, 32)\t1.0\n",
        "  (0, 35)\t1.0\n",
        "  (0, 39)\t1.0\n",
        "  (0, 41)\t1.0\n",
        "  (0, 44)\t1.0\n",
        "  (0, 49)\t1.0\n",
        "  (0, 51)\t1.0\n",
        "  (0, 54)\t1.0\n",
        "  (0, 57)\t1.0\n",
        "  (0, 59)\t1.0\n",
        "  (0, 60)\t-1.2364778603818776\n",
        "  (0, 61)\t-0.7451314133870967\n",
        "  (0, 62)\t2.7664564848025224\n",
        "```"
      ]
    },
    {
      "cell_type": "markdown",
      "metadata": {
        "id": "St3JH7vUIrcI"
      },
      "source": [
        "<details>    \n",
        "<summary>\n",
        "    <font size=\"3\" color=\"darkgreen\"><b>Pista 1</b></font>\n",
        "</summary>\n",
        "<p>\n",
        "\n",
        "* Use el método **`select_dtypes([dtype])`** para obtener un _DataFrame_ con sólo las variables que correspondan con el tipo indicado en la variable **`dtype`**. En este caso, puede considerar que las variables categóricas tienen _dtype_ **`object`** y las numéricas, al tener todas valores enteros, dtype **`int64`**.\n"
      ]
    },
    {
      "cell_type": "markdown",
      "metadata": {
        "id": "Mcsi5Yhw1RBJ"
      },
      "source": [
        "<details>    \n",
        "<summary>\n",
        "    <font size=\"3\" color=\"darkgreen\"><b>Pista 2</b></font>\n",
        "</summary>\n",
        "\n",
        "* El atributo **`columns`** de un *DataFrame* permite acceder a los nombres de las columnas. Esto será de utilidad al indicar las columnas que deben ser consideradas por cada transformador de **`ColumnTransformer`**.  \n"
      ]
    },
    {
      "cell_type": "markdown",
      "metadata": {
        "id": "TjR-sb4lH0Ux"
      },
      "source": [
        "## **4. Obtenga el porcentaje de ejemplos con clase `good` de cada grupo.**\n",
        "---\n",
        "Dado el propósito original del análisis de distinguir entre clientes con buen riesgo y mal riesgo, vamos a realizar un modelo no supervisado de agrupamiento $k$-_means_ con $k$ igual a $2$. A partir de este queremos evaluar la tendencia de cada grupo a ser aceptado o rechazado por la entidad que emite el crédito, según los datos de la caracterización real. Para esto vamos a realizar el análisis de cada grupo obtenido de manera no supervisada, calculando el porcentaje de sus registros que fueron etiquetados con riesgo real **`'good'`**.\n",
        "\n",
        "Complete la función **`proporcion_cluster`** de tal manera que reciba las etiquetas reales codificadas, las etiquetas de grupo del agrupamiento, un número **`i`** y retorne el porcentaje de ejemplos en el $i$-ésimo grupo con clase **`'good'`**.\n",
        "\n",
        "**Entrada:**\n",
        "\n",
        "* **`model`**: modelo de agrupamiento **`KMeans`** entrenado con $2$ grupos.\n",
        "* **`X`**: arreglo sparse de _SciPy_ o regular de _NumPy_ con la matriz de datos reales sobre la cual realizar la predicción del agrupamiento.\n",
        "* **`y`**: arreglo de _NumPy_ con el vector de etiquetas reales, donde el valor $1$ corresponde a la categoría **`'good'`** y $0$ a la categoría **`'bad'`**.\n",
        "\n",
        "**Salida:**\n",
        "\n",
        "* **`ratios`**: lista de números reales de tamaño $k$ con el porcentaje de registros con valor $1$ (categoría **`'good'`**) de cada grupo."
      ]
    },
    {
      "cell_type": "code",
      "metadata": {
        "id": "ht8Kh2Ab3f-y"
      },
      "source": [
        "# FUNCIÓN CALIFICADA proporcion_cluster:\n",
        "\n",
        "def proporcion_cluster(model, X, y):\n",
        "  \"\"\"\n",
        "  Entradas:\n",
        "    model: modelo KMeans entrenado con 2 grupos.\n",
        "    X: arreglo sparse de SciPy o regular de NumPy con la matriz de datos preprocesados.\n",
        "    y: arreglo de NumPy con shape (n,): las etiquetas reales 0 (bad) o 1 (good).\n",
        "  Retorna:\n",
        "    ratios: lista de porcentajes de créditos con etiqueta 1 (good) del i-esimo cluster.\n",
        "  \"\"\"\n",
        "  y_pred=model.predict(X)\n",
        "  ### ESCRIBA SU CÓDIGO AQUÍ ### (~ 2-4 líneas de código)\n",
        "\n",
        "  ratios =[]\n",
        "  k=2\n",
        "  for i in range(k):\n",
        "    # Ejemplos que pertenecen al i-esimo grupo.\n",
        "    ids_group = y_pred == i\n",
        "\n",
        "    # Etiquetas reales de los ejemplos del grupo.\n",
        "    labels_group = y[ids_group]\n",
        "\n",
        "    # Calculamos la proporción como la media, pues consiste en valores con 0 y 1.\n",
        "    ratio = np.round(np.mean(labels_group), 5)\n",
        "    ratios.append(ratio)\n",
        "\n",
        "  ### FIN DEL CÓDIGO ###\n",
        "  return ratios"
      ],
      "execution_count": null,
      "outputs": []
    },
    {
      "cell_type": "code",
      "metadata": {
        "id": "lypFHLi-ptvU",
        "colab": {
          "base_uri": "https://localhost:8080/"
        },
        "outputId": "ff65c1f1-42a0-4ee2-ac9a-407c511046a7"
      },
      "source": [
        "#TEST_CELL\n",
        "from sklearn.cluster import KMeans\n",
        "\n",
        "# 1. Separar el conjunto de datos en la forma X, y.\n",
        "X_raw, y_raw = separar_X_y(credit_german_df)\n",
        "assert (isinstance(X_raw, pd.DataFrame) and isinstance(y_raw, pd.Series)\n",
        "      and X_raw.shape == (1000, 18) and y_raw.shape == (1000, )), \"Ej 1. Revise el resultado del ejercicio 1.\"\n",
        "\n",
        "# 2. Codificación de las etiquetas en valores binarios\n",
        "y = codificar(y_raw)\n",
        "assert isinstance(y, np.ndarray) and y.shape[0] > 0, \"Ej 2. Revise el resultado del ejercicio 2.\"\n",
        "\n",
        "# 3. Preprocesamiento de la matriz de entrada.\n",
        "X, _ = preprocesar(X_raw)\n",
        "assert isinstance(X, scipy.sparse.csr.csr_matrix) and (X.shape[1] > X_raw.shape[1]),\"Ej 3. Revise el resultado del ejercicio 3.\"\n",
        "\n",
        "k = 2\n",
        "model = KMeans(n_clusters= 2, random_state=24)\n",
        "model.fit(X)\n",
        "\n",
        "ratios = proporcion_cluster(model, X, y)\n",
        "try:\n",
        "  for i, ratio in enumerate(ratios):\n",
        "    print(f'Grupo: {i}, porcentaje: {ratio:.5f}')\n",
        "except Exception as e:\n",
        "  print(e)\n",
        "  print(\"El valor retornado no es un iterable válido.\")"
      ],
      "execution_count": null,
      "outputs": [
        {
          "output_type": "stream",
          "name": "stdout",
          "text": [
            "Grupo: 0, porcentaje: 0.74431\n",
            "Grupo: 1, porcentaje: 0.56917\n"
          ]
        }
      ]
    },
    {
      "cell_type": "code",
      "source": [
        "#TEST_CELL\n",
        "from sklearn.cluster import KMeans\n",
        "\n",
        "# 1. Separar el conjunto de datos en la forma X, y.\n",
        "X_raw, y_raw = separar_X_y(credit_german_df)\n",
        "assert (isinstance(X_raw, pd.DataFrame) and isinstance(y_raw, pd.Series)\n",
        "      and X_raw.shape == (1000, 18) and y_raw.shape == (1000, )), \"Ej 1. Revise el resultado del ejercicio 1.\"\n",
        "\n",
        "# 2. Codificación de las etiquetas en valores binarios\n",
        "y = codificar(y_raw)\n",
        "assert isinstance(y, np.ndarray) and y.shape[0] > 0, \"Ej 2. Revise el resultado del ejercicio 2.\"\n",
        "\n",
        "# 3. Preprocesamiento de la matriz de entrada.\n",
        "X, _ = preprocesar(X_raw)\n",
        "assert isinstance(X, scipy.sparse.csr.csr_matrix) and (X.shape[1] > X_raw.shape[1]),\"Ej 3. Revise el resultado del ejercicio 3.\"\n",
        "\n",
        "k = 2\n",
        "model = KMeans(n_clusters= 2, random_state=24)\n",
        "model.fit(X)\n"
      ],
      "metadata": {
        "colab": {
          "base_uri": "https://localhost:8080/",
          "height": 75
        },
        "id": "b8PicD_4v68F",
        "outputId": "dfa340bb-2f54-45e8-8d93-ef38bb9658d4"
      },
      "execution_count": null,
      "outputs": [
        {
          "output_type": "execute_result",
          "data": {
            "text/plain": [
              "KMeans(n_clusters=2, random_state=24)"
            ],
            "text/html": [
              "<style>#sk-container-id-1 {color: black;background-color: white;}#sk-container-id-1 pre{padding: 0;}#sk-container-id-1 div.sk-toggleable {background-color: white;}#sk-container-id-1 label.sk-toggleable__label {cursor: pointer;display: block;width: 100%;margin-bottom: 0;padding: 0.3em;box-sizing: border-box;text-align: center;}#sk-container-id-1 label.sk-toggleable__label-arrow:before {content: \"▸\";float: left;margin-right: 0.25em;color: #696969;}#sk-container-id-1 label.sk-toggleable__label-arrow:hover:before {color: black;}#sk-container-id-1 div.sk-estimator:hover label.sk-toggleable__label-arrow:before {color: black;}#sk-container-id-1 div.sk-toggleable__content {max-height: 0;max-width: 0;overflow: hidden;text-align: left;background-color: #f0f8ff;}#sk-container-id-1 div.sk-toggleable__content pre {margin: 0.2em;color: black;border-radius: 0.25em;background-color: #f0f8ff;}#sk-container-id-1 input.sk-toggleable__control:checked~div.sk-toggleable__content {max-height: 200px;max-width: 100%;overflow: auto;}#sk-container-id-1 input.sk-toggleable__control:checked~label.sk-toggleable__label-arrow:before {content: \"▾\";}#sk-container-id-1 div.sk-estimator input.sk-toggleable__control:checked~label.sk-toggleable__label {background-color: #d4ebff;}#sk-container-id-1 div.sk-label input.sk-toggleable__control:checked~label.sk-toggleable__label {background-color: #d4ebff;}#sk-container-id-1 input.sk-hidden--visually {border: 0;clip: rect(1px 1px 1px 1px);clip: rect(1px, 1px, 1px, 1px);height: 1px;margin: -1px;overflow: hidden;padding: 0;position: absolute;width: 1px;}#sk-container-id-1 div.sk-estimator {font-family: monospace;background-color: #f0f8ff;border: 1px dotted black;border-radius: 0.25em;box-sizing: border-box;margin-bottom: 0.5em;}#sk-container-id-1 div.sk-estimator:hover {background-color: #d4ebff;}#sk-container-id-1 div.sk-parallel-item::after {content: \"\";width: 100%;border-bottom: 1px solid gray;flex-grow: 1;}#sk-container-id-1 div.sk-label:hover label.sk-toggleable__label {background-color: #d4ebff;}#sk-container-id-1 div.sk-serial::before {content: \"\";position: absolute;border-left: 1px solid gray;box-sizing: border-box;top: 0;bottom: 0;left: 50%;z-index: 0;}#sk-container-id-1 div.sk-serial {display: flex;flex-direction: column;align-items: center;background-color: white;padding-right: 0.2em;padding-left: 0.2em;position: relative;}#sk-container-id-1 div.sk-item {position: relative;z-index: 1;}#sk-container-id-1 div.sk-parallel {display: flex;align-items: stretch;justify-content: center;background-color: white;position: relative;}#sk-container-id-1 div.sk-item::before, #sk-container-id-1 div.sk-parallel-item::before {content: \"\";position: absolute;border-left: 1px solid gray;box-sizing: border-box;top: 0;bottom: 0;left: 50%;z-index: -1;}#sk-container-id-1 div.sk-parallel-item {display: flex;flex-direction: column;z-index: 1;position: relative;background-color: white;}#sk-container-id-1 div.sk-parallel-item:first-child::after {align-self: flex-end;width: 50%;}#sk-container-id-1 div.sk-parallel-item:last-child::after {align-self: flex-start;width: 50%;}#sk-container-id-1 div.sk-parallel-item:only-child::after {width: 0;}#sk-container-id-1 div.sk-dashed-wrapped {border: 1px dashed gray;margin: 0 0.4em 0.5em 0.4em;box-sizing: border-box;padding-bottom: 0.4em;background-color: white;}#sk-container-id-1 div.sk-label label {font-family: monospace;font-weight: bold;display: inline-block;line-height: 1.2em;}#sk-container-id-1 div.sk-label-container {text-align: center;}#sk-container-id-1 div.sk-container {/* jupyter's `normalize.less` sets `[hidden] { display: none; }` but bootstrap.min.css set `[hidden] { display: none !important; }` so we also need the `!important` here to be able to override the default hidden behavior on the sphinx rendered scikit-learn.org. See: https://github.com/scikit-learn/scikit-learn/issues/21755 */display: inline-block !important;position: relative;}#sk-container-id-1 div.sk-text-repr-fallback {display: none;}</style><div id=\"sk-container-id-1\" class=\"sk-top-container\"><div class=\"sk-text-repr-fallback\"><pre>KMeans(n_clusters=2, random_state=24)</pre><b>In a Jupyter environment, please rerun this cell to show the HTML representation or trust the notebook. <br />On GitHub, the HTML representation is unable to render, please try loading this page with nbviewer.org.</b></div><div class=\"sk-container\" hidden><div class=\"sk-item\"><div class=\"sk-estimator sk-toggleable\"><input class=\"sk-toggleable__control sk-hidden--visually\" id=\"sk-estimator-id-1\" type=\"checkbox\" checked><label for=\"sk-estimator-id-1\" class=\"sk-toggleable__label sk-toggleable__label-arrow\">KMeans</label><div class=\"sk-toggleable__content\"><pre>KMeans(n_clusters=2, random_state=24)</pre></div></div></div></div></div>"
            ]
          },
          "metadata": {},
          "execution_count": 21
        }
      ]
    },
    {
      "cell_type": "markdown",
      "metadata": {
        "id": "wxBU196ByRgn"
      },
      "source": [
        "**Salida esperada**:\n",
        "\n",
        "```\n",
        "Grupo: 0, porcentaje: 0.74431\n",
        "Grupo: 1, porcentaje: 0.56917\n",
        "```"
      ]
    },
    {
      "cell_type": "markdown",
      "metadata": {
        "id": "ZNwLKNj2I8T8"
      },
      "source": [
        "<details>    \n",
        "<summary>\n",
        "    <font size=\"3\" color=\"darkgreen\"><b>Pista 1</b></font>\n",
        "</summary>\n",
        "\n",
        "* Use selección condicional de _NumPy_ para seleccionar los valores que correspondan."
      ]
    },
    {
      "cell_type": "markdown",
      "metadata": {
        "id": "LL8LVE4BVpN0"
      },
      "source": [
        "<details>    \n",
        "<summary>\n",
        "    <font size=\"3\" color=\"darkgreen\"><b>Pista 2</b></font>\n",
        "</summary>\n",
        "\n",
        "* Se puede calcular el porcentaje como la media, pues son valores binarios y nos interesa el porcentaje de ejemplos con valor $1$."
      ]
    },
    {
      "cell_type": "markdown",
      "metadata": {
        "id": "vpI7D3q0yYCc"
      },
      "source": [
        "## **5. Realice evaluación del desempeño interna con el coeficiente de silueta.**\n",
        "---\n",
        "Para caracterizar y segmentar a los aplicantes de crédito del conjunto de datos vamos a construir modelos de agrupamiento basados en el algoritmo $k$-_means_ con distintos valores de $k$ y realizar un experimento de evaluación de su desempeño de manera interna con el coeficiente de silueta.\n",
        "\n",
        "Complete la función **`experimento_silueta`** de tal manera que reciba los datos preprocesados (**`X`**), un iterable con los valores de $k$ a explorar (**`K`**) y una semilla aleatoria **`seed`** para la construcción de los modelos **`KMeans`**, y retorne una lista o arreglo con los $n_k$ coeficientes de silueta obtenidos del agrupamiento de cada uno de los modelos.\n",
        "\n",
        "\n",
        "**Entrada:**\n",
        "* **`X`**: arreglo sparse de _SciPy_ o regular de _NumPy_ con tamaño $(n, m)$ con valores numéricos.\n",
        "* **`K`**: colección ordenada (lista, tupla o arreglo de _NumPy_) de números enteros de tamaño $n_k$ usado como el hiperparámetro $k$ del modelo $k$-_means_.\n",
        "* **`seed`**: número real con la semilla aleatoria para la declaración y ejecución del modelo **`KMeans`**.\n",
        "\n",
        "**Salida:**\n",
        "* **`silhouette`** colección ordenada (lista, tupla o arreglo de _NumPy_) de números reales correspondientes al coeficiente de silueta del modelo **`KMeans`** entrenado en cada iteración.\n",
        "\n"
      ]
    },
    {
      "cell_type": "code",
      "metadata": {
        "id": "ngHOcOkqki2T"
      },
      "source": [
        "# FUNCIÓN CALIFICADA experimento_silueta:\n",
        "\n",
        "# Funciones utilizadas en el ejercicio.\n",
        "from sklearn.cluster import KMeans\n",
        "from sklearn.metrics import silhouette_score\n",
        "\n",
        "def experimento_silueta(X, K,\n",
        "# ¡No modifique los valores por defecto de los argumentos!\n",
        "                        seed = 100):\n",
        "  \"\"\"\n",
        "  Entradas:\n",
        "    X: arreglo sparse de SciPy o regular de NumPy con el conjunto\n",
        "                de datos preprocesado para realizar agrupamiento.\n",
        "    K: iterable con los valores de k.\n",
        "    seed: semilla aleatoria para KMeans.\n",
        "  Retorna:\n",
        "    silhouette: Lista con el coeficiente de silueta de los agrupamientos resultantes.\n",
        "  \"\"\"\n",
        "  ### ESCRIBA SU CÓDIGO AQUÍ ### (~ 5-6 líneas de código)\n",
        "\n",
        "  silhouette = []\n",
        "\n",
        "\n",
        "\n",
        "  for i in K:\n",
        "    # Ejemplos que pertenecen al i-esimo grupo.\n",
        "    km = KMeans(n_clusters=i, random_state=seed)\n",
        "    km = km.fit(X)\n",
        "    y = km.predict(X)\n",
        "    silhouette.append(silhouette_score(X, y))\n",
        "\n",
        "  ### FIN DEL CÓDIGO ###\n",
        "  return silhouette"
      ],
      "execution_count": null,
      "outputs": []
    },
    {
      "cell_type": "markdown",
      "metadata": {
        "id": "-0bHQCULb3N-"
      },
      "source": [
        "Ejecute la siguiente celda para probar su código:\n",
        "\n",
        "> **Nota:** la construcción de los modelos **`KMeans`** puede tardar un poco."
      ]
    },
    {
      "cell_type": "code",
      "metadata": {
        "id": "ybhIc6_poNFc",
        "colab": {
          "base_uri": "https://localhost:8080/"
        },
        "outputId": "a3671ebc-6e78-42ad-e753-bdb38140a18c"
      },
      "source": [
        "#TEST_CELL\n",
        "\n",
        "# 1. Separar el conjunto de datos en la forma X, y.\n",
        "X_raw, y_raw = separar_X_y(credit_german_df)\n",
        "assert (isinstance(X_raw, pd.DataFrame) and isinstance(y_raw, pd.Series)\n",
        "      and X_raw.shape == (1000, 18) and y_raw.shape == (1000, )), \"Ej 1. Revise el resultado del ejercicio 1.\"\n",
        "\n",
        "# 3. Preprocesamiento de la matriz de entrada.\n",
        "X, _ = preprocesar(X_raw)\n",
        "assert isinstance(X, scipy.sparse.csr.csr_matrix) and X.shape[1] > X_raw.shape[1], \"Ej 3. Revise el resultado del ejercicio 3.\"\n",
        "\n",
        "K = np.arange(2, 11)\n",
        "silhouette = experimento_silueta(X, K)\n",
        "try:\n",
        "  print(np.round(silhouette, 4))\n",
        "except Exception as e:\n",
        "  print(e)\n",
        "  print(\"El valor retornado no es un iterable válido.\")"
      ],
      "execution_count": null,
      "outputs": [
        {
          "output_type": "stream",
          "name": "stdout",
          "text": [
            "[0.1442 0.0981 0.0802 0.0714 0.0683 0.067  0.0564 0.0554 0.0563]\n"
          ]
        }
      ]
    },
    {
      "cell_type": "markdown",
      "metadata": {
        "id": "E0Y54_vktEjv"
      },
      "source": [
        "**Salida esperada**:\n",
        "\n",
        "```\n",
        "[0.1451 0.0967 0.0808 0.0714 0.0603 0.0655 0.0569 0.0535 0.0548]\n",
        "```"
      ]
    },
    {
      "cell_type": "code",
      "metadata": {
        "id": "Qg5w4pub72Pu",
        "cellView": "form",
        "colab": {
          "base_uri": "https://localhost:8080/",
          "height": 416
        },
        "outputId": "e1c2903f-3f07-4076-e948-1553db41044e"
      },
      "source": [
        "#TEST_CELL\n",
        "#@markdown **Celda de pruebas**: Ejecute esta celda para probar de forma gráfica el resultado obtenido en la celda anterior.\n",
        "try:\n",
        "  plt.figure(dpi=100, figsize=(8, 4))\n",
        "  plt.plot(K, silhouette, 'bx-')\n",
        "  plt.xticks(K)\n",
        "  plt.xlabel('k')\n",
        "  plt.ylabel('Coeficiente de silueta')\n",
        "  plt.title(f'K vs Coeficiente de silueta')\n",
        "  plt.show()\n",
        "except Exception as e:\n",
        "  print(\"El valor retornado no es válido. Asegúrese de obtener una respuesta correcta y de ejecutar la celda de prueba anterior antes de ejecutar esta celda.\")"
      ],
      "execution_count": null,
      "outputs": [
        {
          "output_type": "display_data",
          "data": {
            "text/plain": [
              "<Figure size 800x400 with 1 Axes>"
            ],
            "image/png": "[encoded data removed]"
          },
          "metadata": {
            "image/png": {
              "width": 709,
              "height": 399
            }
          }
        }
      ]
    },
    {
      "cell_type": "markdown",
      "metadata": {
        "id": "N-XK970fdUPi"
      },
      "source": [
        "**Salida esperada:**\n",
        "\n",
        "![t4e5.png](data:image/png;base64,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)"
      ]
    },
    {
      "cell_type": "markdown",
      "metadata": {
        "id": "f5TgXz4wuTpR"
      },
      "source": [
        "> **Pregunta**: ¿Qué valor de $k$ escogería?"
      ]
    },
    {
      "cell_type": "markdown",
      "metadata": {
        "id": "Kj0lOGbmIotF"
      },
      "source": [
        "<details>    \n",
        "<summary>\n",
        "    <font size=\"3\" color=\"darkgreen\"><b>Pista 1</b></font>\n",
        "</summary>\n",
        "\n",
        "* Itere sobre cada valor de **`K`** con un bucle **`for`**, entrene un modelo por cada **`k`** y guarde los resultados en una lista.\n"
      ]
    },
    {
      "cell_type": "markdown",
      "metadata": {
        "id": "RBC4nq-YWRgn"
      },
      "source": [
        "<details>    \n",
        "<summary>\n",
        "    <font size=\"3\" color=\"darkgreen\"><b>Pista 2</b></font>\n",
        "</summary>\n",
        "\n",
        "* Obtenga el coeficiente de silueta de un modelo determinado con el método **`silhouette_score`** del módulo **`metrics`**.\n"
      ]
    },
    {
      "cell_type": "markdown",
      "metadata": {
        "id": "UfWau34Ayb-P"
      },
      "source": [
        "## **6. Realice evaluación del desempeño externa con el índice de Rand.**\n",
        "---\n",
        "Dado que tenemos a nuestro alcance las categorías reales de la clasificación, podemos realizar un experimento de evaluación del desempeño de manera externa.\n",
        "\n",
        "En esta ocasión vamos a realizar un experimento análogo al del ejercicio $4$, evaluando el desempeño por medio del índice ajustado de _Rand_.\n",
        "\n",
        "Complete la función **`experimento_rand`** de tal manera que reciba los datos preprocesados (**`X`**), un iterable con los valores de $k$ a explorar (**`K`**) y una semilla aleatoria **`seed`** para la construcción de los modelos **`KMeans`**, y retorne una lista o arreglo con los $n_k$ índices ajustados de _Rand_ obtenidos del agrupamiento de cada uno de los modelos.\n",
        "\n",
        "\n",
        "**Entrada:**\n",
        "* **`X`**: arreglo sparse de _SciPy_ o regular de _NumPy_ con tamaño $(n, m)$ con valores numéricos.\n",
        "* **`y`**: arreglo de _NumPy_ de tamaño $(n, )$ con las etiquetas reales del conjunto de datos.\n",
        "* **`K`**: colección ordenada (lista, tupla o arreglo de _NumPy_) de números enteros de tamaño $n_k$ usado como el hiperparámetro $k$ del modelo $k$-_means_.\n",
        "* **`seed`**: número real con la semilla aleatoria para la declaración y ejecución del modelo **`KMeans`**.\n",
        "\n",
        "**Salida:**\n",
        "* **`rand`** colección ordenada (lista, tupla o arreglo de _NumPy_) de números reales correspondientes al índice ajustado de _Rand_ del modelo **`KMeans`** entrenado en cada iteración."
      ]
    },
    {
      "cell_type": "code",
      "metadata": {
        "id": "rrhDfQdF5mk-"
      },
      "source": [
        "# FUNCIÓN CALIFICADA experimento_silueta:\n",
        "\n",
        "# Funciones utilizadas en el ejercicio.\n",
        "from sklearn.cluster import KMeans\n",
        "from sklearn.metrics import adjusted_rand_score\n",
        "\n",
        "def experimento_rand(X, y, K,\n",
        "# ¡No modifique los valores por defecto de los argumentos!\n",
        "                        seed = 481):\n",
        "  \"\"\"\n",
        "  Entradas:\n",
        "    X: arreglo sparse de SciPy o regular de NumPy con el conjunto\n",
        "                de datos preprocesado para realizar agrupamiento.\n",
        "    y: arreglo de NumPy con las etiquetas preprocesadas del conjunto de datos.\n",
        "    K: iterable con los valores de k para probar.\n",
        "    seed: semilla aleatoria para KMeans.\n",
        "  Retorna:\n",
        "    rand: iterable con el coeficiente ajustado de Rand de los agrupamientos resultantes.\n",
        "  \"\"\"\n",
        "  ### ESCRIBA SU CÓDIGO AQUÍ ### (~ 5 - 6 líneas de código)\n",
        "\n",
        "  rand = []\n",
        "\n",
        "  for i in K:\n",
        "    # Ejemplos que pertenecen al i-esimo grupo.\n",
        "    km = KMeans(n_clusters=i, random_state=seed)\n",
        "    km = km.fit(X)\n",
        "    y1 = km.predict(X)\n",
        "    rand.append(adjusted_rand_score(y, y1))\n",
        "\n",
        "  ### FIN DEL CÓDIGO ###\n",
        "  return rand"
      ],
      "execution_count": null,
      "outputs": []
    },
    {
      "cell_type": "code",
      "metadata": {
        "id": "6oZTZE0b9NgU",
        "colab": {
          "base_uri": "https://localhost:8080/"
        },
        "outputId": "98d69f08-3202-44a5-fb09-bbc36b855254"
      },
      "source": [
        "#TEST_CELL\n",
        "\n",
        "# 1. Separar el conjunto de datos en la forma X, y.\n",
        "X_raw, y_raw = separar_X_y(credit_german_df)\n",
        "assert (isinstance(X_raw, pd.DataFrame) and isinstance(y_raw, pd.Series)\n",
        "      and X_raw.shape == (1000, 18) and y_raw.shape == (1000, )), \"Ej 1. Revise el resultado del ejercicio 1.\"\n",
        "\n",
        "# 2. Codificación de las etiquetas en valores binarios\n",
        "y = codificar(y_raw)\n",
        "assert isinstance(y, np.ndarray) and y.shape[0] > 0, \"Ej 2. Revise el resultado del ejercicio 2.\"\n",
        "\n",
        "# 3. Preprocesamiento de la matriz de entrada.\n",
        "X, _ = preprocesar(X_raw)\n",
        "assert isinstance(X, scipy.sparse.csr.csr_matrix) and X.shape[1] > X_raw.shape[1], \"Ej 3. Revise el resultado del ejercicio 3.\"\n",
        "\n",
        "K = np.arange(2, 11)\n",
        "rand = experimento_rand(X, y, K)\n",
        "\n",
        "try:\n",
        "  print(np.round(rand, 4))\n",
        "except Exception as e:\n",
        "  print(e)\n",
        "  print(\"El valor retornado no es un iterable válido.\")"
      ],
      "execution_count": null,
      "outputs": [
        {
          "output_type": "stream",
          "name": "stdout",
          "text": [
            "[0.0706 0.0235 0.0126 0.0101 0.0126 0.0118 0.0141 0.021  0.0135]\n"
          ]
        }
      ]
    },
    {
      "cell_type": "markdown",
      "metadata": {
        "id": "ZlIgV0g4tH2C"
      },
      "source": [
        "**Salida esperada:**\n",
        "\n",
        "```\n",
        "[0.0706 0.0224 0.0129 0.0105 0.012  0.02   0.0129 0.0157 0.0106]\n",
        "```"
      ]
    },
    {
      "cell_type": "code",
      "metadata": {
        "cellView": "form",
        "id": "IAYSx3HmdjUe",
        "colab": {
          "base_uri": "https://localhost:8080/",
          "height": 418
        },
        "outputId": "fcdf0ba4-e635-4432-ec8f-a1c5acb7198f"
      },
      "source": [
        "#TEST_CELL\n",
        "#@markdown **Celda de pruebas**: Ejecute esta celda para probar de forma gráfica el resultado obtenido en la celda anterior.\n",
        "try:\n",
        "  plt.figure(dpi=100, figsize=(8, 4))\n",
        "  plt.plot(K, rand, 'bx-')\n",
        "  plt.xticks(K)\n",
        "  plt.xlabel('k')\n",
        "  plt.ylabel('Índice ajustado de Rand')\n",
        "  plt.title(f'K vs Índice ajustado de Rand')\n",
        "  plt.show()\n",
        "except Exception as e:\n",
        "  print(\"El valor retornado no es válido. Asegúrese de obtener una respuesta correcta y de ejecutar la celda de prueba anterior antes de ejecutar esta celda.\")"
      ],
      "execution_count": null,
      "outputs": [
        {
          "output_type": "display_data",
          "data": {
            "text/plain": [
              "<Figure size 800x400 with 1 Axes>"
            ],
            "image/png": "[encoded data removed]"
          },
          "metadata": {
            "image/png": {
              "width": 711,
              "height": 401
            }
          }
        }
      ]
    },
    {
      "cell_type": "markdown",
      "metadata": {
        "id": "Svf3-jf6egTx"
      },
      "source": [
        "**Salida esperada:**\n",
        "\n",
        "![t4e6.png](data:image/png;base64,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)"
      ]
    },
    {
      "cell_type": "markdown",
      "metadata": {
        "id": "sU6maoNzuoHA"
      },
      "source": [
        "> **Pregunta**: ¿Qué valor de $k$ escogería?"
      ]
    },
    {
      "cell_type": "markdown",
      "metadata": {
        "id": "8YEihuVLWjo_"
      },
      "source": [
        "<details>    \n",
        "<summary>\n",
        "    <font size=\"3\" color=\"darkgreen\"><b>Pista 1</b></font>\n",
        "</summary>\n",
        "\n",
        "* Itere sobre cada valor de **`K`** con un bucle **`for`**, entrene un modelo por cada **`k`** y guarde los resultados en una lista.\n"
      ]
    },
    {
      "cell_type": "markdown",
      "metadata": {
        "id": "sv92x18VWBB_"
      },
      "source": [
        "<details>    \n",
        "<summary>\n",
        "    <font size=\"3\" color=\"darkgreen\"><b>Pista 2</b></font>\n",
        "</summary>\n",
        "\n",
        "* Obtenga el índice de _Rand_ de un modelo determinado con el método **`ajusted_rand_score`** del módulo **`metrics`**.\n"
      ]
    },
    {
      "cell_type": "markdown",
      "metadata": {
        "id": "Y0eaHEBLATR7"
      },
      "source": [
        "## **7. Interprete los centroides de cada grupo**\n",
        "---\n",
        "Con el objetivo de interpretar el agrupamiento encontrado, nos interesa inspeccionar los elementos representativos o centroides de cada grupo e  interpretar los valores promedio por variable obtenidos.\n",
        "\n",
        "Complete la función **`centroides`** de tal manera que reciba un modelo **`KMeans`** entrenado, un número entero **`col`** y un número entero **`group`** que representen la posición de la variable en la que estamos interesado y el índice del grupo a explorar.\n",
        "\n",
        "La función debe retornar el valor de la variable ubicada en la posición **`col`** del **`group`**-ésimo grupo.\n",
        "\n",
        "**Entrada:**\n",
        "\n",
        "* **`model`**: modelo de agrupamiento **`KMeans`** ajustado sobre **`X`**.\n",
        "* **`group`**: número entero con el índice del grupo sobre el cual calcular el centroide.\n",
        "* **`col`**: número entero con el índice de la columna del arreglo **`X`** correspondiente a la variable en la cual estamos interesados.\n",
        "\n",
        "**Salida:**\n",
        "\n",
        "* **`centroid`**: número real con el valor de la variable **`col`** del centroide del grupo **`group`** obtenido del modelo **`model`**.\n"
      ]
    },
    {
      "cell_type": "code",
      "metadata": {
        "id": "6amiVPuhATR7"
      },
      "source": [
        "# FUNCIÓN CALIFICADA centroides:\n",
        "\n",
        "def centroides(model, group, col):\n",
        "  \"\"\"\n",
        "  Entrada:\n",
        "    model: modelo KMeans ajustado a los datos.\n",
        "    group: número entero con el índice del centroide.\n",
        "    col:   número entero con el índice de la variable del centroide.\n",
        "  Retorna:\n",
        "    centroid: número real con el valor de la variable 'col' del centroide 'group'.\n",
        "  \"\"\"\n",
        "  ### ESCRIBA SU CÓDIGO AQUÍ ### (~ 3-4 líneas de código)\n",
        "\n",
        "  centroid = []\n",
        "\n",
        "  for centroidd in model.cluster_centers_:\n",
        "    centroid_copy = centroidd.copy()\n",
        "    centroid.append(centroid_copy)\n",
        "\n",
        "  ### FIN DEL CÓDIGO ###\n",
        "  return centroid[group][col]"
      ],
      "execution_count": null,
      "outputs": []
    },
    {
      "cell_type": "markdown",
      "metadata": {
        "id": "-mgPXeZyATR8"
      },
      "source": [
        "Para evaluar el resultado de la función, vamos a inspeccionar los valores de dos variables para cada centroide. Estas son:\n",
        "\n",
        "- **`radio/tv`** (ubicada en la columna $15$) es uno de los valores posibles de la característica categórica **`purpose`**. Debido a que se realizó _One Hot Encoding_ de todas las características categóricas, la característica **`radio/tv`** de un centroide corresponde a el porcentaje de personas del grupo que pidieron un crédito para comprar una radio o una televisión.\n",
        "\n",
        "\n",
        "Use la siguiente celda para probar su código:"
      ]
    },
    {
      "cell_type": "code",
      "metadata": {
        "colab": {
          "base_uri": "https://localhost:8080/"
        },
        "id": "QMjHMDa2ATR9",
        "outputId": "4854989c-01d9-4b3f-8e83-f1c909eb5660"
      },
      "source": [
        "#TEST_CELL\n",
        "\n",
        "# 1. Separar el conjunto de datos en la forma X, y.\n",
        "X_raw, y_raw = separar_X_y(credit_german_df)\n",
        "assert (isinstance(X_raw, pd.DataFrame) and isinstance(y_raw, pd.Series)\n",
        "      and X_raw.shape == (1000, 18) and y_raw.shape == (1000, )), \"Ej 1. Revise el resultado del ejercicio 1.\"\n",
        "\n",
        "# 2. Codificación de las etiquetas en valores binarios\n",
        "y = codificar(y_raw)\n",
        "assert isinstance(y, np.ndarray) and y.shape[0] > 0, \"Ej 2. Revise el resultado del ejercicio 2.\"\n",
        "\n",
        "# 3. Preprocesamiento de la matriz de entrada.\n",
        "X, tf = preprocesar(X_raw)\n",
        "assert (isinstance(X, scipy.sparse.csr.csr_matrix) and\n",
        "       (X.shape[1] > X_raw.shape[1]) and\n",
        "       isinstance(tf, sklearn.compose._column_transformer.ColumnTransformer\n",
        "       )), \"Ej 3. Revise el resultado del ejercicio 3.\"\n",
        "\n",
        "k = 2\n",
        "model = KMeans(n_clusters= k, random_state=24)\n",
        "model.fit(X)\n",
        "\n",
        "try:\n",
        "  print('Grupo \\t radio/tv')\n",
        "  for i in range(2):\n",
        "    print(f'{i} \\t {centroides(model, i, 15):.5f}' )\n",
        "except Exception as e:\n",
        "  print(e)\n",
        "  print(\"El valor retornado no es un iterable válido.\")"
      ],
      "execution_count": null,
      "outputs": [
        {
          "output_type": "stream",
          "name": "stdout",
          "text": [
            "Grupo \t radio/tv\n",
            "0 \t 0.31191\n",
            "1 \t 0.18577\n"
          ]
        }
      ]
    },
    {
      "cell_type": "markdown",
      "metadata": {
        "id": "kFkawqEbATR_"
      },
      "source": [
        "**Salida esperada**:\n",
        "\n",
        "```\n",
        "Grupo \t radio/tv\n",
        "0 \t     0.31191\n",
        "1 \t     0.18577\n",
        "```"
      ]
    },
    {
      "cell_type": "markdown",
      "metadata": {
        "id": "_2tEEmT6Lg9B"
      },
      "source": [
        "La segunda variable es:\n",
        "- **`disc_duration`** (ubicada en la columna $60$) corresponde a la duración del crédito en meses. De esta manera, el valor de **`disc_duration`** de un centroide corresponde a la media de este valor para los ejemplos del grupo relacionado. Sin embargo, dado que los datos fueron reescalados en el preprocesamiento el valor mostrado no corresponde al valor real de la media. Para corregir esto, podemos utilizar el transformador **`StandarScaler`** usado en el proceso para obtener el valor en su escala original de la siguiente forma:\n",
        "\n",
        "  ```python\n",
        "  centroide = centroides(model, i, 60)\n",
        "  scaler = tf.named_transformers_['scaler']\n",
        "  centroide_original = scaler.inverse_transform([[centroide, 0, 0]])[0, 0]\n",
        "```\n",
        "\n",
        "Use la siguiente celda para probar su código:"
      ]
    },
    {
      "cell_type": "code",
      "metadata": {
        "colab": {
          "base_uri": "https://localhost:8080/"
        },
        "id": "l5yI2jloMxXf",
        "outputId": "eee46337-5924-462c-9875-2345ceb1b4b0"
      },
      "source": [
        "#TEST_CELL\n",
        "\n",
        "# 1. Separar el conjunto de datos en la forma X, y.\n",
        "X_raw, y_raw = separar_X_y(credit_german_df)\n",
        "assert (isinstance(X_raw, pd.DataFrame) and isinstance(y_raw, pd.Series)\n",
        "      and X_raw.shape == (1000, 18) and y_raw.shape == (1000, )), \"Ej 1. Revise el resultado del ejercicio 1.\"\n",
        "\n",
        "# 2. Codificación de las etiquetas en valores binarios\n",
        "y = codificar(y_raw)\n",
        "assert isinstance(y, np.ndarray) and y.shape[0] > 0, \"Ej 2. Revise el resultado del ejercicio 2.\"\n",
        "\n",
        "# 3. Preprocesamiento de la matriz de entrada.\n",
        "X, tf = preprocesar(X_raw)\n",
        "assert (isinstance(X, scipy.sparse.csr.csr_matrix) and\n",
        "       (X.shape[1] > X_raw.shape[1]) and\n",
        "       isinstance(tf, sklearn.compose._column_transformer.ColumnTransformer\n",
        "       )), \"Ej 3. Revise el resultado del ejercicio 3.\"\n",
        "\n",
        "k = 2\n",
        "model = KMeans(n_clusters= k, random_state=24)\n",
        "model.fit(X)\n",
        "try:\n",
        "  print('Grupo \\t disc_duration \\t disc_duration (escala original)')\n",
        "  for i in range(2):\n",
        "    centroide = centroides(model, i, 60)\n",
        "    scaler = tf.named_transformers_['scaler']\n",
        "    centroide_original = scaler.inverse_transform([[centroide, 0, 0]])[0, 0]\n",
        "    print(f'{i} \\t {centroide:.5f} \\t {centroide_original:.5f}' )\n",
        "except Exception as e:\n",
        "  print(e)\n",
        "  print(\"El valor retornado no es un iterable válido.\")"
      ],
      "execution_count": null,
      "outputs": [
        {
          "output_type": "stream",
          "name": "stdout",
          "text": [
            "Grupo \t disc_duration \t disc_duration (escala original)\n",
            "0 \t -0.42490 \t 15.78179\n",
            "1 \t 1.25454 \t 36.02372\n"
          ]
        }
      ]
    },
    {
      "cell_type": "markdown",
      "metadata": {
        "id": "rybGUUKmQk3Z"
      },
      "source": [
        "**Salida esperada**:\n",
        "\n",
        "```\n",
        "Grupo \t disc_duration \t disc_duration (escala original)\n",
        "0 \t     -0.42490 \t      15.78179\n",
        "1 \t     1.25454 \t       36.02372\n",
        "```"
      ]
    },
    {
      "cell_type": "markdown",
      "metadata": {
        "id": "BjE07BNeATSA"
      },
      "source": [
        "> **Pregunta:** ¿Puede encontrar información importante en estos centroides?"
      ]
    },
    {
      "cell_type": "markdown",
      "metadata": {
        "id": "8ppuuViZATSA"
      },
      "source": [
        "<details>    \n",
        "<summary>\n",
        "    <font size=\"3\" color=\"darkgreen\"><b>Pista 1</b></font>\n",
        "</summary>\n",
        "\n",
        "* Puede obtener los centroides de un modelo $k$-_means_ entrenado con el atributo **`cluster_centers_`**. Obtenga una copia de ese arreglo y retorne el valor ubicado en el índice **`group, col`**."
      ]
    }
  ]
}